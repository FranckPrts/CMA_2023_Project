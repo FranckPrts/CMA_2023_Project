{
 "cells": [
  {
   "cell_type": "markdown",
   "id": "19011734-bdd8-4d0c-a215-2e4aab75a7e1",
   "metadata": {},
   "source": [
    "# Retrieval "
   ]
  },
  {
   "cell_type": "markdown",
   "id": "ba74940b-41b3-4c6c-b881-2bc392685daf",
   "metadata": {
    "tags": []
   },
   "source": [
    "@Authors: [Franck Porteous](https://github.com/FranckPrts)  [Faith Hunja](https://github.com/faithhunja), [Hannah Krohn](https://github.com/hlili303)\n",
    "\n",
    "\n",
    "This page is used to import the data from ECCO and UHSLC. All ECCO data from 1992-2017 is imported and longest available data gauge data from locations of interest are also included, namely five tidal gauges in Puerto Rico including Isabel Segunda, Esperanza, Arecibo, Mayaguez, and Fajardo. "
   ]
  },
  {
   "cell_type": "markdown",
   "id": "796c37eb-2adb-4ff0-966c-46482003cbfb",
   "metadata": {
    "tags": []
   },
   "source": [
    "## Setup"
   ]
  },
  {
   "cell_type": "markdown",
   "id": "91a7c6a5-1a17-4d4d-8754-354d7b4d3bb5",
   "metadata": {
    "tags": []
   },
   "source": [
    "### Imports"
   ]
  },
  {
   "cell_type": "code",
   "execution_count": 1,
   "id": "c9a66a07-5c40-4226-a27c-f83d4bbd3f99",
   "metadata": {
    "tags": []
   },
   "outputs": [],
   "source": [
    "# imports\n",
    "\n",
    "import matplotlib.pyplot as plt\n",
    "import xarray as xr\n",
    "import os\n",
    "import pooch\n",
    "import tempfile\n",
    "from pooch import HTTPDownloader\n",
    "import pandas as pd\n",
    "from datetime import timedelta, datetime\n",
    "import numpy as np\n",
    "from cartopy import crs as ccrs\n",
    "from scipy import stats"
   ]
  },
  {
   "cell_type": "markdown",
   "id": "4af98d58-ecf7-49b9-9676-fd6571093b86",
   "metadata": {
    "tags": []
   },
   "source": [
    "### Important variables"
   ]
  },
  {
   "cell_type": "code",
   "execution_count": 2,
   "id": "6f0f145d-04b9-4fd5-90ad-ff1e7eef530a",
   "metadata": {
    "tags": []
   },
   "outputs": [],
   "source": [
    "storm_repo_full = {\n",
    "    \"Sandy\": {\n",
    "        \"start_date\": datetime(1992, 1, 1),\n",
    "        \"end_date\": datetime(2017, 12, 31),\n",
    "        \"tide\": \"Spring\",\n",
    "        \"duration\": 9497,\n",
    "        \"maxIntensity_kt\": 100,\n",
    "        \"maxIntensity_mb\": 940,\n",
    "        \"tg\": {\"Atlantic City, NJ\": {\"lat\": 39.35500, \"lon\": -74.41800},\n",
    "               \"Montauk, NY\": {\"lat\": 40.693, \"lon\": -72.049},\n",
    "               \"The Battery, NY\": {\"lat\": 40.701, \"lon\": -74.014}},\n",
    "        \"tg_precise\": {\n",
    "            \"Atlantic City, NJ (precise)\": {\"lat\": 39.35500, \"lon\": -74.41800, \n",
    "                                            \"record_start\": datetime(1992, 1, 1), \n",
    "                                            \"record_end\": datetime(2017, 12, 31)},\n",
    "            \"Montauk, NY (precise)\": {\"lat\": 40.693, \"lon\": -72.049, \n",
    "                                      \"record_start\": datetime(1992, 1, 1), \n",
    "                                      \"record_end\": datetime(2017, 12, 31)},\n",
    "            \"The Battery, NY (precise)\": {\"lat\": 40.701, \"lon\": -73.75, \n",
    "                                          \"record_start\": datetime(1992, 1, 1), \n",
    "                                          \"record_end\": datetime(2017, 12, 31)}\n",
    "        }\n",
    "    },\n",
    "\n",
    "    \"Maria\": {\n",
    "        \"start_date\": datetime(1992, 1, 1),\n",
    "        \"end_date\": datetime(2017, 12, 31),\n",
    "        \"tide\": \"Spring\",\n",
    "        \"duration\": 9497,\n",
    "        \"maxIntensity_kt\": 150,\n",
    "        \"maxIntensity_mb\": 908,\n",
    "        \"tg\": {\"Penuelas, PR\": {\"lat\": 17.972, \"lon\": -66.762},\n",
    "               \"Isabel Segunda, PR\": {\"lat\": 18.152, \"lon\": -65.443},\n",
    "               \"Esperanza, PR\": {\"lat\": 18.093, \"lon\": -65.47},\n",
    "               \"Arecibo, PR\": {\"lat\": 18.48, \"lon\": -66.702},\n",
    "               \"Mayaguez, PR\": {\"lat\": 18.22, \"lon\": -67.16},\n",
    "               \"Fajardo, PR\": {\"lat\": 18.333, \"lon\": -65.633}},\n",
    "        \"tg_precise\": {\n",
    "            \"Penuelas, PR (precise)\": {\"lat\": 17.4, \"lon\": -66.762, \n",
    "                                       \"record_start\": datetime(2001, 4, 1), \n",
    "                                       \"record_end\": datetime(2005, 2, 9)},\n",
    "            \"Isabel Segunda, PR (precise)\": {\"lat\": 18.152, \"lon\": -65.443, \n",
    "                                             \"record_start\": datetime(2009, 3, 7), \n",
    "                                             \"record_end\": datetime(2017, 10, 19)},\n",
    "            \"Esperanza, PR (precise)\": {\"lat\": 18.093, \"lon\": -65.47, \n",
    "                                        \"record_start\": datetime(2005, 8, 16), \n",
    "                                        \"record_end\": datetime(2017, 12, 31)},\n",
    "            \"Arecibo, PR (precise)\": {\"lat\": 18.5, \"lon\": -66.702, \n",
    "                                      \"record_start\": datetime(2008, 8, 29), \n",
    "                                      \"record_end\": datetime(2017, 12, 31)},\n",
    "            \"Mayaguez, PR (precise)\": {\"lat\": 18.22, \"lon\": -67.16, \n",
    "                                       \"record_start\": datetime(2008, 3, 11), \n",
    "                                       \"record_end\": datetime(2017, 12, 31)},\n",
    "            \"Fajardo, PR (precise)\": {\"lat\": 18.333, \"lon\": -65.633, \n",
    "                                      \"record_start\": datetime(1992, 1, 1), \n",
    "                                      \"record_end\": datetime(2017, 12, 31)}\n",
    "        }\n",
    "    },\n",
    "\n",
    "    \"Ketsana\": {\n",
    "        \"start_date\": datetime(1992, 1, 1),\n",
    "        \"end_date\": datetime(2017, 12, 31),\n",
    "        \"tide\": \"Neap\",\n",
    "        \"duration\": 9497,\n",
    "        \"maxIntensity_kt\": 90,\n",
    "        \"maxIntensity_mb\": 955,\n",
    "        \"tg\": {\"Malakal, Palau\": {\"lat\": 7.33000, \"lon\": 134.46300},\n",
    "               \"Legaspi, Philippines\": {\"lat\": 13.15000, \"lon\": 123.75000},\n",
    "               \"Manila, Philippines\": {\"lat\": 14.58500 , \"lon\": 120.96800},\n",
    "               \"Subic Bay, Philippines\": {\"lat\": 14.76500 , \"lon\": 120.25200},\n",
    "               \"Qui Nhon, Vietnam\": {\"lat\": 13.77500, \"lon\": 109.25500}},\n",
    "        \"tg_precise\": {\n",
    "            \"Malakal, Palau (precise)\": {\"lat\": 7.33000, \"lon\": 134.46300, \n",
    "                                         \"record_start\": datetime(1992, 1, 1), \n",
    "                                         \"record_end\": datetime(2017, 12, 31)},\n",
    "            \"Legaspi, Philippines (precise)\": {\"lat\": 13.15000, \"lon\": 124.1, \n",
    "                                               \"record_start\": datetime(1992, 1, 1), \n",
    "                                               \"record_end\": datetime(2017, 9, 5)},\n",
    "            \"Subic Bay, Philippines (precise)\": {\"lat\": 14.76500 , \"lon\": 119.9, \n",
    "                                                 \"record_start\": datetime(2007, 2, 27), \n",
    "                                                 \"record_end\": datetime(2017, 12, 31)},\n",
    "            \"Qui Nhon, Vietnam (precise)\": {\"lat\": 13.77500, \"lon\": 109.25500, \n",
    "                                            \"record_start\": datetime(2007, 10, 19), \n",
    "                                            \"record_end\": datetime(2017, 12, 31)}\n",
    "        }\n",
    "    }\n",
    "}\n",
    "\n",
    "storm_repo_event = {    \n",
    "             \"Sandy\":{\"start_date\": datetime(2012, 10, 21), \n",
    "                      \"end_date\": datetime(2012, 10, 31),\n",
    "                      \"tide\": \"Spring\",\n",
    "                      \"duration\": 10,\n",
    "                      \"maxIntensity_kt\": 100,\n",
    "                      \"maxIntensity_mb\": 940,\n",
    "                      \"tg\": {\"Atlantic City, NJ\": {\"lat\": 39.35500, \"lon\": -74.41800},\n",
    "                            \"Montauk, NY\": {\"lat\": 40.693, \"lon\": -72.049},\n",
    "                            \"The Battery, NY\": {\"lat\": 40.701, \"lon\": -74.014}},\n",
    "                      \n",
    "                      \"tg_precise\": {\"Atlantic City, NJ (precise)\": {\"lat\": 39.35500, \"lon\": -74.41800},\n",
    "                            \"Montauk, NY (precise)\": {\"lat\": 40.693, \"lon\": -72.049},\n",
    "                            \"The Battery, NY (precise)\": {\"lat\": 40.701, \"lon\": -73.75}}\n",
    "                    },\n",
    "              \n",
    "             \"Maria\":{\"start_date\": datetime(2017, 9, 16), \n",
    "                      \"end_date\": datetime(2017, 10, 2),\n",
    "                      \"tide\": \"Spring\",\n",
    "                      \"duration\": 17,\n",
    "                      \"maxIntensity_kt\": 150,\n",
    "                      \"maxIntensity_mb\": 908,\n",
    "                      \"tg\": {\"Penuelas, PR\": {\"lat\": 17.972, \"lon\": -66.762},\n",
    "                            \"Isabel Segunda, PR\": {\"lat\": 18.152, \"lon\": -65.443},\n",
    "                            \"Esperanza, PR\": {\"lat\": 18.093, \"lon\": -65.47},\n",
    "                            \"Arecibo, PR\": {\"lat\": 18.48, \"lon\": -66.702},\n",
    "                            \"Mayaguez, PR\": {\"lat\": 18.22, \"lon\": -67.16},\n",
    "                            \"Fajardo, PR\": {\"lat\": 18.333, \"lon\": -65.633}},\n",
    "\n",
    "                      \"tg_precise\": {\"Penuelas, PR (precise)\": {\"lat\": 17.4, \"lon\": -66.762},\n",
    "                            \"Isabel Segunda, PR (precise)\": {\"lat\": 18.152, \"lon\": -65.443},\n",
    "                            \"Esperanza, PR (precise)\": {\"lat\": 18.093, \"lon\": -65.47},\n",
    "                            \"Arecibo, PR (precise)\": {\"lat\": 18.5, \"lon\": -66.702},\n",
    "                            \"Mayaguez, PR (precise)\": {\"lat\": 18.22, \"lon\": -67.16},\n",
    "                            \"Fajardo, PR (precise)\": {\"lat\": 18.333, \"lon\": -65.633}}\n",
    "                    }, \n",
    "              \n",
    "             \"Ketsana\":{\"start_date\": datetime(2009, 9, 25), \n",
    "                      \"end_date\": datetime(2009, 9, 30),\n",
    "                      \"tide\": \"Neap\",\n",
    "                      \"duration\": 5,\n",
    "                      \"maxIntensity_kt\": 90,\n",
    "                      \"maxIntensity_mb\": 955,\n",
    "                      \"tg\": {\"Malakal, Palau\": {\"lat\": 7.33000, \"lon\": 134.46300},\n",
    "                            \"Legaspi, Philippines\": {\"lat\": 13.15000, \"lon\": 123.75000},\n",
    "                            \"Manila, Philippines\": {\"lat\": 14.58500 , \"lon\": 120.96800},\n",
    "                            \"Subic Bay, Philippines\": {\"lat\": 14.76500 , \"lon\": 120.25200},\n",
    "                            \"Qui Nhon, Vietnam\": {\"lat\": 13.77500, \"lon\": 109.25500}},\n",
    "                      \"tg_precise\": {\"Malakal, Palau (precise)\": {\"lat\": 7.33000, \"lon\": 134.46300},\n",
    "                            \"Legaspi, Philippines (precise)\": {\"lat\": 13.15000, \"lon\": 124.1},\n",
    "                  #          \"Manila, Philippines (precise)\": {\"lat\": 14.58500 , \"lon\": 120.96800},\n",
    "                            \"Subic Bay, Philippines (precise)\": {\"lat\": 14.76500 , \"lon\": 119.9},\n",
    "                            \"Qui Nhon, Vietnam (precise)\": {\"lat\": 13.77500, \"lon\": 109.25500}}\n",
    "                    }\n",
    "             }\n",
    "tg_repo = {\"Sandy\": {\"Atlantic City, NJ\": \"https://uhslc.soest.hawaii.edu/data/netcdf/fast/hourly/h264.nc\"},\n",
    "           \"Maria\": {\"Penuelas, PR\": \"https://uhslc.soest.hawaii.edu/data/netcdf/rqds/atlantic/hourly/h243a.nc\",\n",
    "                    \"Isabel Segunda, PR\": \"https://uhslc.soest.hawaii.edu/data/netcdf/rqds/atlantic/hourly/h732a.nc\",\n",
    "                     \"Esperanza, PR\":\"https://uhslc.soest.hawaii.edu/data/netcdf/rqds/atlantic/hourly/h733a.nc\",\n",
    "                     \"Arecibo, PR\":\"https://uhslc.soest.hawaii.edu/data/netcdf/rqds/atlantic/hourly/h735a.nc\",\n",
    "                     \"Mayaguez, PR\":\"https://uhslc.soest.hawaii.edu/data/netcdf/rqds/atlantic/hourly/h736a.nc\",\n",
    "                     \"Fajardo, PR\":\"https://uhslc.soest.hawaii.edu/data/netcdf/rqds/atlantic/hourly/h783b.nc\"},\n",
    "           \"Ketsana\": {\"Malakal, Palau\":\"https://uhslc.soest.hawaii.edu/data/netcdf/rqds/pacific/hourly/h007b.nc\",\n",
    "                      \"Legaspi, Philippines\":\"https://uhslc.soest.hawaii.edu/data/netcdf/rqds/pacific/hourly/h371a.nc\",\n",
    "                      #\"Manila, Philippines\":\"https://uhslc.soest.hawaii.edu/data/netcdf/rqds/pacific/hourly/h370a.nc\",\n",
    "                      \"Subic Bay, Philippines\":\"https://uhslc.soest.hawaii.edu/data/netcdf/rqds/pacific/hourly/h382a.nc\",\n",
    "                      \"Qui Nhon, Vietnam\":\"https://uhslc.soest.hawaii.edu/data/netcdf/rqds/pacific/hourly/h381b.nc\"}\n",
    "          }"
   ]
  },
  {
   "cell_type": "markdown",
   "id": "f0bc5e21-6010-4a45-b429-108ede4cca55",
   "metadata": {
    "tags": []
   },
   "source": [
    "### Helper function"
   ]
  },
  {
   "cell_type": "markdown",
   "id": "1ac903f0-b925-4dc7-ae3f-b05b991ecef2",
   "metadata": {},
   "source": [
    "The function `get_ds_for_date_range` returns a list of the ECCO dataset for a given time range.\n",
    "***Don't forget to make an account [here](https://urs.earthdata.nasa.gov/home)***"
   ]
  },
  {
   "cell_type": "code",
   "execution_count": 3,
   "id": "12d66c34-66f7-4e1a-a636-1393940c15e5",
   "metadata": {
    "tags": []
   },
   "outputs": [],
   "source": [
    "auth=('username', 'password')"
   ]
  },
  {
   "cell_type": "code",
   "execution_count": 4,
   "id": "216685c6-7e7f-411d-874e-d0955bd7b815",
   "metadata": {
    "tags": []
   },
   "outputs": [],
   "source": [
    "def get_ds_for_date_range(start_date, end_date, lati, long, auth=auth):\n",
    "    \n",
    "    # Calculate the number of days in the range\n",
    "    num_days = (end_date - start_date).days + 1\n",
    "        \n",
    "    print(\"range\", start_date, end_date)\n",
    "\n",
    "    datasets = []\n",
    "    ds_files = []\n",
    "\n",
    "    for i in range(num_days):\n",
    "        date_req = (start_date + timedelta(days=i)).strftime(\"%Y-%m-%d\")\n",
    "        \n",
    "        #ecco_url = \"https://archive.podaac.earthdata.nasa.gov/podaac-ops-cumulus-protected/ECCO_L4_SSH_05DEG_DAILY_V4R4/\"\n",
    "        ecco_url = \"https://ecco.jpl.nasa.gov/drive/files/Version4/Release4b/latlon/daily/SSH\"\n",
    "\n",
    "        #file_req = f\"SEA_SURFACE_HEIGHT_day_mean_{date_req}_ECCO_V4r4_latlon_0p50deg.nc\"\n",
    "        file_req = f\"SEA_SURFACE_HEIGHT_day_mean_{date_req}_ECCO_V4r4b_latlon_0p50deg.nc\"\n",
    "        \n",
    "        if not os.path.exists(f\"./data/{file_req}\"):\n",
    "            print(f\"downloading: {date_req}\")\n",
    "            \n",
    "            fn = os.path.join(ecco_url, file_req)\n",
    "\n",
    "            # let the downloader know the login credentials\n",
    "            downloader = HTTPDownloader(auth=auth)\n",
    "            downloader(url=fn, output_file=\"./data/{}\".format(file_req), pooch=None)\n",
    "\n",
    "            dataset = xr.open_dataset(\"./data/{}\".format(file_req))\n",
    "            \n",
    "            dataset.sel(\n",
    "                latitude  = lati,\n",
    "                longitude = long,\n",
    "                method='nearest')\n",
    "            \n",
    "            datasets.append(dataset)\n",
    "            ds_files.append(file_req)\n",
    "\n",
    "        else:\n",
    "            try:\n",
    "                dataset = xr.open_dataset(\"./data/{}\".format(file_req))\n",
    "                #print(f\"checked ./data/{file_req} succesfully\")\n",
    "            except:    \n",
    "                print(f'Cannot process: {file_req}')\n",
    "                break\n",
    "            \n",
    "            \n",
    "            dataset.sel(\n",
    "                latitude  = lati,\n",
    "                longitude = long,\n",
    "                method='nearest')\n",
    "            \n",
    "            datasets.append(dataset)\n",
    "            ds_files.append(file_req)\n",
    "    \n",
    "    return datasets, ds_files\n"
   ]
  },
  {
   "cell_type": "markdown",
   "id": "72ec172a-2fd7-4812-8b4c-0c412f7ca754",
   "metadata": {},
   "source": [
    "## Getting the data"
   ]
  },
  {
   "cell_type": "code",
   "execution_count": 5,
   "id": "db2b9190-edf4-455e-893e-766c0e5b6b72",
   "metadata": {
    "tags": []
   },
   "outputs": [
    {
     "name": "stdout",
     "output_type": "stream",
     "text": [
      "['Penuelas, PR (precise)', 'Isabel Segunda, PR (precise)', 'Esperanza, PR (precise)', 'Arecibo, PR (precise)', 'Mayaguez, PR (precise)', 'Fajardo, PR (precise)']\n"
     ]
    }
   ],
   "source": [
    "event_to_process = \"Maria\"\n",
    "locations_to_process = list(storm_repo_full[event_to_process][\"tg_precise\"].keys())\n",
    "print(locations_to_process)"
   ]
  },
  {
   "cell_type": "markdown",
   "id": "fcbdd020-39fb-4108-8e4d-920d2f4b52a6",
   "metadata": {
    "tags": []
   },
   "source": [
    "### ECCO data \n",
    "\n",
    "ECCO data takkes time to access and is resource intensive. To aleviate these issues, we demonstrate how to download the ECCO data localy to store it in a `xr.Dataset` format.\n",
    "\n",
    "Because we want this code to remain flexible, we did not make a loop to get all the location's data. Instead we provide a code where this can be done by manually selecting name of a location. Here we demonstrate the process for the location `'Isabel Segunda, PR (precise)'`. "
   ]
  },
  {
   "cell_type": "code",
   "execution_count": 6,
   "id": "2df9e00b-712b-46d9-98cb-280fce9592d5",
   "metadata": {
    "tags": []
   },
   "outputs": [],
   "source": [
    "# Set up where data is being stored\n",
    "ds_allLoc_allEvent_sat = {}\n",
    "ar_allLoc_allEvent_sat = {}"
   ]
  },
  {
   "cell_type": "markdown",
   "id": "2e86f09d-8d80-42f6-9282-4b24a2b928c6",
   "metadata": {},
   "source": [
    "If we want to have more than one location, we would have to repeat the steps below for each of them"
   ]
  },
  {
   "cell_type": "code",
   "execution_count": 7,
   "id": "2abcbb35-7b2f-4ab4-aa70-ee339399a8d9",
   "metadata": {
    "tags": []
   },
   "outputs": [
    {
     "name": "stdout",
     "output_type": "stream",
     "text": [
      "event: Isabel Segunda, PR (precise)\n",
      "start_date: 2009-03-07 00:00:00\n",
      "end date: 2017-10-19 00:00:00\n"
     ]
    }
   ],
   "source": [
    "# Chose a location\n",
    "location_to_process = locations_to_process[1]\n",
    "\n",
    "# Print the date that will be used \n",
    "print(f\"event: {location_to_process}\\nstart_date: {storm_repo_full[event_to_process]['tg_precise'][location_to_process]['record_start']}\\nend date: {storm_repo_full[event_to_process]['tg_precise'][location_to_process]['record_end']}\")"
   ]
  },
  {
   "cell_type": "code",
   "execution_count": 8,
   "id": "f51926fb-6e78-4a58-a5f3-138187bdcdc1",
   "metadata": {
    "tags": []
   },
   "outputs": [
    {
     "name": "stdout",
     "output_type": "stream",
     "text": [
      "getting the data for Isabel Segunda, PR (precise) (Maria)\n",
      "range 2009-03-07 00:00:00 2017-10-19 00:00:00\n",
      "done getting the data for Isabel Segunda, PR (precise) (Maria)\n"
     ]
    }
   ],
   "source": [
    "print(f'getting the data for {location_to_process} ({event_to_process})')\n",
    "\n",
    "ds_loc = {}\n",
    "ar_loc = {}\n",
    "\n",
    "start_date = storm_repo_full[event_to_process][\"tg_precise\"][location_to_process][\"record_start\"]\n",
    "end_date = storm_repo_full[event_to_process][\"tg_precise\"][location_to_process][\"record_end\"]\n",
    "\n",
    "ds, filename = get_ds_for_date_range(start_date, \n",
    "                                     end_date, \n",
    "                                     lati=storm_repo_full[event_to_process][\"tg_precise\"][location_to_process][\"lat\"],\n",
    "                                     long=storm_repo_full[event_to_process][\"tg_precise\"][location_to_process][\"lon\"]\n",
    "                                    )\n",
    "\n",
    "print(f'done getting the data for {location_to_process} ({event_to_process})')\n"
   ]
  },
  {
   "cell_type": "code",
   "execution_count": 9,
   "id": "b0683634-16b4-4df1-856c-4199d4c8f25a",
   "metadata": {
    "tags": []
   },
   "outputs": [],
   "source": [
    "# Now we select the CLOSEST gridcell that correspond to the location (hence the suffix (precise))\n",
    "ds_sel = [d.sel(latitude=storm_repo_full[event_to_process][\"tg_precise\"][f\"{location_to_process}\"][\"lat\"],\n",
    "                 longitude=storm_repo_full[event_to_process][\"tg_precise\"][f\"{location_to_process}\"][\"lon\"],\n",
    "                 method='nearest') for d in ds]"
   ]
  },
  {
   "cell_type": "code",
   "execution_count": 10,
   "id": "7fd86ff9-087a-4100-ab51-a665c60f3987",
   "metadata": {
    "tags": []
   },
   "outputs": [
    {
     "name": "stdout",
     "output_type": "stream",
     "text": [
      "done concat for Isabel Segunda, PR (Maria)\n"
     ]
    }
   ],
   "source": [
    "# We now concatenate the list of dataset in one \n",
    "ds_to_save = xr.concat(ds_sel, dim='time')\n",
    "print(f'done concat for {location_to_process[:-10]} ({event_to_process})')"
   ]
  },
  {
   "cell_type": "code",
   "execution_count": 12,
   "id": "b58e2f23-5f79-4013-8205-6b9f90e42084",
   "metadata": {
    "tags": []
   },
   "outputs": [],
   "source": [
    "# Save the array\n",
    "np.save(f\"./isp_saved_arrays/ECCO_{event_to_process}-{location_to_process[:-10]}.npy\", ds_to_save[\"SSH\"].values)\n",
    "\n",
    "# Save rthe d\n",
    "ds_to_save.to_netcdf(path=f\"./isp_saved_ds/ECCO_{location_to_process[:-10]}.nc\", mode='w')"
   ]
  },
  {
   "cell_type": "markdown",
   "id": "440d222d-dada-4f4f-8aa2-1e5ae7bbb83b",
   "metadata": {
    "tags": []
   },
   "source": [
    "### Tidal gauge data \n",
    "\n",
    "Because the tidal gauge data is fast to get, we store the array and datasets of all location all at once."
   ]
  },
  {
   "cell_type": "code",
   "execution_count": 14,
   "id": "63d66abd-8d4f-47ae-9611-ee6a489da545",
   "metadata": {
    "tags": []
   },
   "outputs": [],
   "source": [
    "# We set resample to true to get daily data instead of hourly data \n",
    "resample_tg    = True"
   ]
  },
  {
   "cell_type": "code",
   "execution_count": 18,
   "id": "88813b2a-ba6b-492e-9863-c245c7d5630e",
   "metadata": {
    "tags": []
   },
   "outputs": [
    {
     "name": "stdout",
     "output_type": "stream",
     "text": [
      "doing: Maria - Penuelas, PR (precise)\n",
      "Done with resample_tg\n",
      "doing: Maria - Isabel Segunda, PR (precise)\n",
      "Done with resample_tg\n",
      "doing: Maria - Esperanza, PR (precise)\n",
      "Done with resample_tg\n",
      "doing: Maria - Arecibo, PR (precise)\n",
      "Done with resample_tg\n",
      "doing: Maria - Mayaguez, PR (precise)\n",
      "Done with resample_tg\n",
      "doing: Maria - Fajardo, PR (precise)\n",
      "Done with resample_tg\n",
      "> Done saving TG datasets and arrays\n"
     ]
    }
   ],
   "source": [
    "ar_allLoc_allEvent_tg = {} #array\n",
    "ds_allLoc_allEvent_tg = {} #dataset\n",
    "\n",
    "# Setting up empty dicts for each event outside the loop\n",
    "ar_allLoc_allEvent_tg[event_to_process] = {}\n",
    "ds_allLoc_allEvent_tg[event_to_process] = {}\n",
    "\n",
    "for lo in locations_to_process: \n",
    "    print(f'doing: {event_to_process} - {lo}')\n",
    "\n",
    "    locations = tg_repo.get(event_to_process)\n",
    "\n",
    "    # Get URL\n",
    "    url_choosen = locations[lo[:-10]]\n",
    "\n",
    "    # Retrieve dataset \n",
    "    ds = xr.open_dataset(pooch.retrieve(url_choosen, known_hash=None))\n",
    "\n",
    "    # Cut the time of the event from ds\n",
    "    start_date = storm_repo_full[event_to_process][\"tg_precise\"][f'{lo}'][\"record_start\"]\n",
    "    end_date = storm_repo_full[event_to_process][\"tg_precise\"][f'{lo}'][\"record_end\"]\n",
    "\n",
    "    # Get the event data\n",
    "    ds_event = ds.sel(time=slice(start_date, end_date))\n",
    "\n",
    "    if resample_tg:\n",
    "      \n",
    "        try:\n",
    "            resampled = ds_event.resample(time=\"D\")\n",
    "            resampled = resampled.mean()\n",
    "            \n",
    "            # Save the array and divide by 1000 for unit conversion (millimeter to M)\n",
    "            np.save(f\"./isp_saved_arrays/TG_{event_to_process}-{lo[:-10]}.npy\", resampled.sea_level.values.flatten() / 1000)\n",
    "            \n",
    "            # Save the dataset\n",
    "            resampled.to_netcdf(path=f\"./isp_saved_ds/TG_{lo[:-10]}.nc\", mode='w') \n",
    "            print(\"Done with resample_tg\")\n",
    "        \n",
    "        except:\n",
    "            print(\"couldn't do resample_tg\")\n",
    "            pass\n",
    "    else:\n",
    "        # Save the array and divide by 1000 for unit conversion (millimeter to M)\n",
    "        np.save(f\"./isp_saved_arrays/TG_{event_to_process}-{lo[:-10]}_NotRsampled.npy\", ds_event.sea_level.values.flatten() / 1000)\n",
    "        \n",
    "        # Save the dataset\n",
    "        ds_event.to_netcdf(path=f\"./isp_saved_ds/TG_{lo[:-10]}.nc\", mode='w') \n",
    "        \n",
    "print('> Done saving TG datasets and arrays')"
   ]
  }
 ],
 "metadata": {
  "kernelspec": {
   "display_name": "Python 3 (ipykernel)",
   "language": "python",
   "name": "python3"
  },
  "language_info": {
   "codemirror_mode": {
    "name": "ipython",
    "version": 3
   },
   "file_extension": ".py",
   "mimetype": "text/x-python",
   "name": "python",
   "nbconvert_exporter": "python",
   "pygments_lexer": "ipython3",
   "version": "3.10.12"
  }
 },
 "nbformat": 4,
 "nbformat_minor": 5
}
