{
 "cells": [
  {
   "cell_type": "markdown",
   "id": "7c5e533c-ec31-4b0a-8fa3-fb42d4afd029",
   "metadata": {},
   "source": [
    "Tidal Gauge Precise Time Series\n",
    "\n",
    "| Location name (Station ID) | TG start           | Absolute start      | Absolute End        | TG ends            |   \n",
    "|-----------------------------|---------------------|---------------------|---------------------|--------------------|\n",
    "| Isabel Segunda, PR (732)          | (2009, 03, 07)      | (2009, 03, 07)      | (2017, 10, 19)      | (2017, 10, 19)     |                     \n",
    "| Esperanza, PR (733)          | (2005, 08, 16)      | (2005, 08, 16)      | (2017, 12, 31)      | (2019, 12, 31)     |                     \n",
    "| Arecibo, PR (735)            | (2008, 08, 29)      | (2008, 08, 29)      | (2017, 12, 31)      | (2017, 12, 31)     |                     \n",
    "| Mayaguez, PR (736)               | (2008, 03, 11)         | (2008, 03, 11)      | (2017, 12, 31)      | (2019, 12, 31)     |                     \n",
    "| Fajardo, PR (783b)                 | (2008, 10, 07)        | (2008, 10, 07)     | (2017, 12, 31)      | (2017, 09, 19)     |\n"
   ]
  },
  {
   "cell_type": "markdown",
   "id": "82b472f4-c9e0-46d4-a64d-01c62a691868",
   "metadata": {},
   "source": [
    "## Analysis \n",
    "Values rounded to the second decimal. \n"
   ]
  },
  {
   "cell_type": "markdown",
   "id": "5bbfd180-61d2-410b-9d0f-8a1194e0da2a",
   "metadata": {},
   "source": [
    "| Location          | (mean) Pearson’s correlation coefficient | (mean) P-value      | (STD) Pearson’s correlation coefficient | (STD) P-value       |\n",
    "|-------------------|-----------------------------------------|---------------------|------------------------------------------|---------------------|\n",
    "| Isabel Segunda, PR| 0.39                                    | p<0.01          | 0.39                                     | p<0.01          |\n",
    "| Esperanza, PR     | 0.55                                    | p<0.01          | -0.32                                    | p<0.01          |\n",
    "| Arecibo, PR       | 0.96                                    | p<0.01          | -0.35                                    | p<0.01          |\n",
    "| Mayaguez, PR      | 0.93                                    | p<0.01          | 0.07                                     | p<0.01          |\n",
    "| Fajardo, PR       | 0.96                                    | p<0.01          | 0.07                                     | p<0.01          |\n"
   ]
  },
  {
   "cell_type": "markdown",
   "id": "a5304cef-7a4c-491b-9724-7fc620b456fe",
   "metadata": {},
   "source": [
    "## Notes\n",
    "1. Meridional ranges in the ECCO model only vastly increase at the -10° to 10° latitude, which is outside of our current range, but still critical mapping information when comparing global ocean state mapping. \n",
    "2. In order to access ECCO data, one must make an account with a unique username and password to utilize the python code\n",
    "3. These TGs include Isabel Segunda, PR, Esperanza, PR, Arecibo, PR, Mayaguez, PR, Fajardo, PR.\n",
    "4. More details of the time series in used for each tidal gauge is detailed in the supplementary information graph, ⅘ TG were established after ECCO so the time series starts with the establishment of the TG, however, Fajardo began in 1921, but only the data with ECCO is used. So in Fajardo the time series starts on January, 1st 1992. "
   ]
  },
  {
   "cell_type": "markdown",
   "id": "c4ac880e-d11a-4ba3-aae6-627ba8550a23",
   "metadata": {},
   "source": [
    "## Bibliography\n",
    "\n",
    "Arns, A., T. Wahl, S. Dangendorf, and J. Jensen. “The Impact of Sea Level Rise on Storm Surge Water Levels in the Northern Part of the German Bight.” Coastal Engineering 96 (February 2015): 118–31. https://doi.org/10.1016/j.coastaleng.2014.12.002.\n",
    "\n",
    "Caldwell, Patrick C., Mark A. Merrifield, and Philip R. Thompson. “Sea Level Measured by Tide Gauges from Global Oceans as Part of the Joint Archive for Sea Level (JASL) since 1846.” NOAA National Centers for Environmental Information, 2001. https://doi.org/10.7289/V5V40S7W.\n",
    "\n",
    "“ECCO Consortium, Fukumori, I. et al. (05/31/2022). ECCO Central Estimate (Version 4 Release 4), Https://Ecco-Group.Org/Products-ECCO-V4r4.Htm (2022).,” n.d.\n",
    "\n",
    "Forget, G., J.-M. Campin, P. Heimbach, C. N. Hill, R. M. Ponte, and C. Wunsch. “ECCO Version 4: An Integrated Framework for Non-Linear Inverse Modeling and Global Ocean State Estimation.” Geoscientific Model Development 8, no. 10 (October 6, 2015): 3071–3104. https://doi.org/10.5194/gmd-8-3071-2015.\n",
    "\n",
    "Haigh, Ivan D., Mark D. Pickering, J. A. Mattias Green, Brian K. Arbic, Arne Arns, Sönke Dangendorf, David F. Hill, et al. “The Tides They Are A‐Changin’: A Comprehensive Review of Past and Future Nonastronomical Changes in Tides, Their Driving Mechanisms, and Future Implications.” Reviews of Geophysics 58, no. 1 (March 2020): e2018RG000636. https://doi.org/10.1029/2018RG000636.\n",
    "\n",
    "Heimbach, Patrick, Ichiro Fukumori, Christopher N. Hill, Rui M. Ponte, Detlef Stammer, Carl Wunsch, Jean-Michel Campin, et al. “Putting It All Together: Adding Value to the Global Ocean and Climate Observing Systems With Complete Self-Consistent Ocean State and Parameter Estimates.” Frontiers in Marine Science 6 (March 4, 2019): 55. https://doi.org/10.3389/fmars.2019.00055.\n",
    "\n",
    "Horsburgh, K. J., and C. Wilson. “Tide-Surge Interaction and Its Role in the Distribution of Surge Residuals in the North Sea.” Journal of Geophysical Research 112, no. C8 (August 3, 2007): C08003. https://doi.org/10.1029/2006JC004033.\n",
    "\n",
    "Idier, Déborah, Xavier Bertin, Philip Thompson, and Mark D. Pickering. “Interactions Between Mean Sea Level, Tide, Surge, Waves and Flooding: Mechanisms and Contributions to Sea Level Variations at the Coast.” Surveys in Geophysics 40, no. 6 (November 2019): 1603–30. https://doi.org/10.1007/s10712-019-09549-5.\n",
    "\n",
    "Kemp, Andrew C., Timothy A. Shaw, and Christopher G. Piecuch. “The Importance of Non-Tidal Water-Level Variability for Reconstructing Holocene Relative Sea Level.” Quaternary Science Reviews 290 (August 2022): 107637. https://doi.org/10.1016/j.quascirev.2022.107637.\n",
    "\n",
    "Kerr, P. C., R. C. Martyr, A. S. Donahue, M. E. Hope, J. J. Westerink, R. A. Luettich, A. B. Kennedy, J. C. Dietrich, C. Dawson, and H. J. Westerink. “U.S. IOOS Coastal and Ocean Modeling Testbed: Evaluation of Tide, Wave, and Hurricane Surge Response Sensitivities to Mesh Resolution and Friction in the Gulf of Mexico.” Journal of Geophysical Research: Oceans 118, no. 9 (September 2013): 4633–61. https://doi.org/10.1002/jgrc.20305.\n",
    "\n",
    "Kleptsova, Olga S., Henk A. Dijkstra, René M. van Westen, Carine G. van der Boog, Caroline A. Katsman, Rebecca K. James, Tjeerd J. Bouma, et al. “Impacts of Tropical Cyclones on the Caribbean Under Future Climate Conditions.” Journal of Geophysical Research: Oceans 126, no. 9 (September 2021): e2020JC016869. https://doi.org/10.1029/2020JC016869.\n",
    "Muis, Sanne, Maialen Irazoqui Apecechea, Job Dullaart, Joao De Lima Rego, Kristine Skovgaard Madsen, Jian Su, Kun Yan, and Martin Verlaan. “A High-Resolution Global Dataset of Extreme Sea Levels, Tides, and Storm Surges, Including Future Projections.” Frontiers in Marine Science 7 (April 29, 2020): 263. https://doi.org/10.3389/fmars.2020.00263.\n",
    "\n",
    "Pasch, Richard J. “Pasch, Richard J., Andrew B. Penny, and Robbie Berg. ‘National Hurricane Center Tropical Cyclone Report: Hurricane Maria (AL152017).’ National Hurricane Center (2019).,” n.d. https://www.nhc.noaa.gov/data/tcr/AL152017_Maria.pdf.\n",
    "\n",
    "Pascual, Ananda, Marta Marcos, and Damià Gomis. “Comparing the Sea Level Response to Pressure and Wind Forcing of Two Barotropic Models: Validation with Tide Gauge and Altimetry Data.” Journal of Geophysical Research: Oceans 113, no. C7 (July 2008): 2007JC004459. https://doi.org/10.1029/2007JC004459.\n",
    "\n",
    "Volkov, Denis L., Kate Zhang, William E. Johns, Joshua K. Willis, Will Hobbs, Marlos Goes, Hong Zhang, and Dimitris Menemenlis. “Atlantic Meridional Overturning Circulation Increases Flood Risk along the United States Southeast Coast.” Nature Communications 14, no. 1 (August 22, 2023): 5095. https://doi.org/10.1038/s41467-023-40848-z.\n",
    "\n",
    "Widlansky, Matthew J., Xiaoyu Long, and Fabian Schloesser. “Increase in Sea Level Variability with Ocean Warming Associated with the Nonlinear Thermal Expansion of Seawater.” Communications Earth & Environment 1, no. 1 (August 20, 2020): 9. https://doi.org/10.1038/s43247-020-0008-8.\n",
    "\n",
    "Woodworth, Philip L. “The Global Distribution of the M1 Ocean Tide.” Ocean Science 15, no. 2 (April 16, 2019): 431–42. https://doi.org/10.5194/os-15-431-2019.\n",
    "\n",
    "Wunsch, Carl, and Patrick Heimbach. “Practical Global Oceanic State Estimation.” Physica D: Nonlinear Phenomena 230, no. 1–2 (June 2007): 197–208. https://doi.org/10.1016/j.physd.2006.09.040.\n",
    "\n",
    "Zlotnicki, Victor, Zheng Qu, and Joshua Willis. “MEaSUREs Gridded Sea Surface Height Anomalies Version 1812.” NASA Physical Oceanography Distributed Active Archive Center, 2019. https://doi.org/10.5067/SLREF-CDRV2."
   ]
  }
 ],
 "metadata": {
  "kernelspec": {
   "display_name": "Python 3 (ipykernel)",
   "language": "python",
   "name": "python3"
  },
  "language_info": {
   "codemirror_mode": {
    "name": "ipython",
    "version": 3
   },
   "file_extension": ".py",
   "mimetype": "text/x-python",
   "name": "python",
   "nbconvert_exporter": "python",
   "pygments_lexer": "ipython3",
   "version": "3.10.12"
  }
 },
 "nbformat": 4,
 "nbformat_minor": 5
}
