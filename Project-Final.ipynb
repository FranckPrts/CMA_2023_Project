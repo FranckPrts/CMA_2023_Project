{
 "cells": [
  {
   "cell_type": "markdown",
   "id": "5300d40f-8f35-4584-b4f7-b3e7abfde631",
   "metadata": {},
   "source": [
    "# Analysis Notebook: After (during and before) the Storm: Comparing SSH Data Systems"
   ]
  },
  {
   "cell_type": "markdown",
   "id": "f2dde966-0afe-44cc-a009-8bde95eace18",
   "metadata": {
    "tags": []
   },
   "source": [
    "### Setup"
   ]
  },
  {
   "cell_type": "markdown",
   "id": "b6c6b3ba-e6bd-429d-8002-1aa308b98fc0",
   "metadata": {
    "tags": []
   },
   "source": [
    "#### Imports"
   ]
  },
  {
   "cell_type": "code",
   "execution_count": 2,
   "id": "d6650f24-c6a9-44cc-9e44-f4cc70e7cdf8",
   "metadata": {
    "tags": []
   },
   "outputs": [],
   "source": [
    "# imports\n",
    "import matplotlib.pyplot as plt\n",
    "import xarray as xr\n",
    "import os\n",
    "import pooch\n",
    "import tempfile\n",
    "\n",
    "\n",
    "from pooch import HTTPDownloader\n",
    "import xarray as xr\n",
    "import os\n",
    "from datetime import timedelta, datetime\n",
    "\n",
    "from cartopy import crs as ccrs"
   ]
  },
  {
   "cell_type": "markdown",
   "id": "8713c384-3727-4f72-a189-e761edc09798",
   "metadata": {
    "tags": []
   },
   "source": [
    "#### Colors & Repo"
   ]
  },
  {
   "cell_type": "code",
   "execution_count": 3,
   "id": "29463568-9d11-4087-b852-16132617f0a0",
   "metadata": {
    "tags": []
   },
   "outputs": [],
   "source": [
    "colors = {\n",
    "    \"blue\": \"#1f77b4\",\n",
    "    \"orange\": \"#ff7f0e\",\n",
    "    \"green\": \"#2ca02c\",\n",
    "    \"red\": \"#d62728\",\n",
    "    \"purple\": \"#9467bd\",\n",
    "    \"brown\": \"#8c564b\",\n",
    "    \"pink\": \"#e377c2\",\n",
    "    \"gray\": \"#7f7f7f\",\n",
    "    \"olive\": \"#bcbd22\",\n",
    "    \"cyan\": \"#17becf\"\n",
    "}"
   ]
  },
  {
   "cell_type": "code",
   "execution_count": 4,
   "id": "8520ba8c-9a19-404b-82fc-db43de3d96cf",
   "metadata": {
    "tags": []
   },
   "outputs": [],
   "source": [
    "storm_repo = {\n",
    "    \n",
    "             \"Sandy\":{\"start_date\": datetime(2012, 10, 21), \n",
    "                      \"end_date\": datetime(2012, 10, 31),\n",
    "                      \"tide\": \"Spring\",\n",
    "                      \"duration\": 10,\n",
    "                      \"maxIntensity_kt\": 100,\n",
    "                      \"maxIntensity_mb\": 940,\n",
    "                      \"tg\": {\"Atlantic City, NJ\": {\"lat\": 39.35500, \"lon\": -74.41800},\n",
    "                            \"Montauk, NY\": {\"lat\": 40.693, \"lon\": -72.049},\n",
    "                            \"The Battery, NY\": {\"lat\": 40.701, \"lon\": -74.014}},\n",
    "                      \n",
    "                      \"tg_precise\": {\"Atlantic City, NJ (precise)\": {\"lat\": 39.35500, \"lon\": -74.41800},\n",
    "                            \"Montauk, NY (precise)\": {\"lat\": 40.693, \"lon\": -72.049},\n",
    "                            \"The Battery, NY (precise)\": {\"lat\": 40.701, \"lon\": -73.75}}\n",
    "                    },\n",
    "              \n",
    "             \"Maria\":{\"start_date\": datetime(2017, 9, 16), \n",
    "                      \"end_date\": datetime(2017, 10, 2),\n",
    "                      \"tide\": \"Spring\",\n",
    "                      \"duration\": 17,\n",
    "                      \"maxIntensity_kt\": 150,\n",
    "                      \"maxIntensity_mb\": 908,\n",
    "                      \"tg\": {\"Penuelas, PR\": {\"lat\": 17.972, \"lon\": -66.762},\n",
    "                            \"Isabel Segunda, PR\": {\"lat\": 18.152, \"lon\": -65.443},\n",
    "                            \"Esperanza, PR\": {\"lat\": 18.093, \"lon\": -65.47},\n",
    "                            \"Arecibo, PR\": {\"lat\": 18.48, \"lon\": -66.702},\n",
    "                            \"Mayaguez, PR\": {\"lat\": 18.22, \"lon\": -67.16},\n",
    "                            \"Fajardo, PR\": {\"lat\": 18.333, \"lon\": -65.633}},\n",
    "\n",
    "                      \"tg_precise\": {\"Penuelas, PR (precise)\": {\"lat\": 17.4, \"lon\": -66.762},\n",
    "                            \"Isabel Segunda, PR (precise)\": {\"lat\": 18.152, \"lon\": -65.443},\n",
    "                            \"Esperanza, PR (precise)\": {\"lat\": 18.093, \"lon\": -65.47},\n",
    "                            \"Arecibo, PR (precise)\": {\"lat\": 18.5, \"lon\": -66.702},\n",
    "                            \"Mayaguez, PR (precise)\": {\"lat\": 18.22, \"lon\": -67.16},\n",
    "                            \"Fajardo, PR (precise)\": {\"lat\": 18.333, \"lon\": -65.633}}\n",
    "                    }, \n",
    "              \n",
    "             \"Ketsana\":{\"start_date\": datetime(2009, 9, 25), \n",
    "                      \"end_date\": datetime(2009, 9, 30),\n",
    "                      \"tide\": \"Neap\",\n",
    "                      \"duration\": 5,\n",
    "                      \"maxIntensity_kt\": 90,\n",
    "                      \"maxIntensity_mb\": 955,\n",
    "                      \"tg\": {\"Malakal, Palau\": {\"lat\": 7.33000, \"lon\": 134.46300},\n",
    "                            \"Legaspi, Philippines\": {\"lat\": 13.15000, \"lon\": 123.75000},\n",
    "                            \"Manila, Philippines\": {\"lat\": 14.58500 , \"lon\": 120.96800},\n",
    "                            \"Subic Bay, Philippines\": {\"lat\": 14.76500 , \"lon\": 120.25200},\n",
    "                            \"Qui Nhon, Vietnam\": {\"lat\": 13.77500, \"lon\": 109.25500}},\n",
    "                      \"tg_precise\": {\"Malakal, Palau (precise)\": {\"lat\": 7.33000, \"lon\": 134.46300},\n",
    "                            \"Legaspi, Philippines (precise)\": {\"lat\": 13.15000, \"lon\": 124.1},\n",
    "                  #          \"Manila, Philippines (precise)\": {\"lat\": 14.58500 , \"lon\": 120.96800},\n",
    "                            \"Subic Bay, Philippines (precise)\": {\"lat\": 14.76500 , \"lon\": 119.9},\n",
    "                            \"Qui Nhon, Vietnam (precise)\": {\"lat\": 13.77500, \"lon\": 109.25500}}\n",
    "                    }\n",
    "             }\n",
    "tg_repo = {\"Sandy\": {\"Atlantic City, NJ\": \"https://uhslc.soest.hawaii.edu/data/netcdf/fast/hourly/h264.nc\"},\n",
    "           \"Maria\": {\"Penuelas, PR\": \"https://uhslc.soest.hawaii.edu/data/netcdf/rqds/atlantic/hourly/h243a.nc\",\n",
    "                    \"Isabel Segunda, PR\": \"https://uhslc.soest.hawaii.edu/data/netcdf/rqds/atlantic/hourly/h732a.nc\",\n",
    "                     \"Esperanza, PR\":\"https://uhslc.soest.hawaii.edu/data/netcdf/rqds/atlantic/hourly/h733a.nc\",\n",
    "                     \"Arecibo, PR\":\"https://uhslc.soest.hawaii.edu/data/netcdf/rqds/atlantic/hourly/h735a.nc\",\n",
    "                     \"Mayaguez, PR\":\"https://uhslc.soest.hawaii.edu/data/netcdf/rqds/atlantic/hourly/h736a.nc\",\n",
    "                     \"Fajardo, PR\":\"https://uhslc.soest.hawaii.edu/data/netcdf/rqds/atlantic/hourly/h783b.nc\"},\n",
    "           \"Ketsana\": {\"Malakal, Palau\":\"https://uhslc.soest.hawaii.edu/data/netcdf/rqds/pacific/hourly/h007b.nc\",\n",
    "                      \"Legaspi, Philippines\":\"https://uhslc.soest.hawaii.edu/data/netcdf/rqds/pacific/hourly/h371a.nc\",\n",
    "                      \"Manila, Philippines\":\"https://uhslc.soest.hawaii.edu/data/netcdf/rqds/pacific/hourly/h370a.nc\",\n",
    "                      \"Subic Bay, Philippines\":\"https://uhslc.soest.hawaii.edu/data/netcdf/rqds/pacific/hourly/h382a.nc\",\n",
    "                      \"Qui Nhon, Vietnam\":\"https://uhslc.soest.hawaii.edu/data/netcdf/rqds/pacific/hourly/h381b.nc\"}\n",
    "          }"
   ]
  },
  {
   "cell_type": "markdown",
   "id": "eef3efc2-7881-4be4-b101-f159d3c31017",
   "metadata": {
    "tags": []
   },
   "source": [
    "#### Helper function"
   ]
  },
  {
   "cell_type": "markdown",
   "id": "71feb64a-63e0-4294-8013-445fa8f07314",
   "metadata": {
    "tags": []
   },
   "source": [
    "##### time_series_corr()"
   ]
  },
  {
   "cell_type": "code",
   "execution_count": 5,
   "id": "259f0623-3fe5-4863-9c37-8fd2081d6e18",
   "metadata": {
    "tags": []
   },
   "outputs": [],
   "source": [
    "import pandas as pd\n",
    "import numpy as np\n",
    "from scipy import stats\n",
    "\n",
    "def time_series_corr(tg_data_dict, sat_data_dict, event, normalize_zero=True):\n",
    "    \"\"\"\n",
    "    Calculate the Pearson correlation between tidal gauge (TG) and satellite (SAT) sea level time series for a given event.\n",
    "\n",
    "    Parameters:\n",
    "        tg_data_dict (dict): Dictionary containing tidal gauge data for different events and locations.\n",
    "        sat_data_dict (dict): Dictionary containing satellite data for different events and locations.\n",
    "        event (str): Event identifier.\n",
    "        normalize_zero (bool, optional): Whether to normalize data to have zero mean. Defaults to True.\n",
    "\n",
    "    Returns:\n",
    "        pd.DataFrame: DataFrame containing correlation results, including Pearson's correlation coefficient,\n",
    "                      p-value, minimum and maximum values of TG and SAT data, and percentage of usable data.\n",
    "\n",
    "    Note:\n",
    "        Regarding, the sampling frequency of both timeseries. The function assumes that the input data has been preprocessed to ensure compatibility between TG and SAT data.\n",
    "\n",
    "    \"\"\"\n",
    "\n",
    "    results = pd.DataFrame(columns=[\"Event\", \"Location\", 'Pearons Statistic', 'Pvalue', 'Min TG', 'Max TG', \"Min SAT\", \"Max SAT\", \"Percent_usable\"])\n",
    "\n",
    "    event_tg_data = tg_data_dict.get(event, None)\n",
    "    event_sat_data = sat_data_dict.get(event, None)\n",
    "    \n",
    "    if event_tg_data is None:\n",
    "        print(f\"Event '{event}' not found in the TG dictionary.\")\n",
    "        return\n",
    "    if event_sat_data is None:\n",
    "        print(f\"Event '{event}' not found in the SATELLITE dictionary.\")\n",
    "        return\n",
    "\n",
    "    for idx, (location, tg_values) in enumerate(event_tg_data.items()):\n",
    "        if len(tg_values.shape) == 2:\n",
    "            # Convert 2D array to 1D by taking the mean along axis 0 (columns)\n",
    "            tg_values = np.mean(tg_values, axis=0)\n",
    "\n",
    "        if normalize_zero: # No need to normalize the SSH data from the sat as it's already anomalies\n",
    "            tg_values = tg_values - tg_values.mean()\n",
    "        \n",
    "        # Find corresponding sat_data and plot its time series\n",
    "        if location in event_sat_data:\n",
    "            sat_values = event_sat_data[location]\n",
    "            time_sat = np.arange(0, len(sat_values)) * 24  # Convert days to hours for x-axis\n",
    "            sat_values = np.interp(np.arange(len(tg_values)), time_sat, sat_values)  # Resample SAT data to hourly timescale\n",
    "            \n",
    "            if normalize_zero:\n",
    "                sat_values = sat_values - sat_values.mean()\n",
    "        else:\n",
    "            sat_values = np.full_like(tg_values, np.nan)  # If SAT data is missing, fill with NaNs\n",
    "\n",
    "        bad = ~np.logical_or(np.isnan(tg_values), np.isnan(sat_values))\n",
    "        \n",
    "        percent_usable = (bad.sum() * 100 / len(bad))\n",
    "\n",
    "        try:\n",
    "            res = stats.pearsonr(np.compress(bad, tg_values), np.compress(bad, sat_values))\n",
    "        except:\n",
    "            res = (\"TOO SHORT\", \"TOO SHORT\")\n",
    "\n",
    "        row = [event, location, res[0], res[1], tg_values.min(), tg_values.max(), sat_values.min(), sat_values.max(), percent_usable]\n",
    "        results.loc[len(results)] = row\n",
    "\n",
    "    return results\n"
   ]
  },
  {
   "cell_type": "markdown",
   "id": "dd311a8d-fe51-4eeb-9647-e26f0bdba432",
   "metadata": {
    "tags": []
   },
   "source": [
    "##### function: plot_time_series_combined"
   ]
  },
  {
   "cell_type": "code",
   "execution_count": 6,
   "id": "7b77f323-b714-47a2-87fe-195862966ace",
   "metadata": {
    "tags": []
   },
   "outputs": [],
   "source": [
    "def plot_time_series_combined(\n",
    "    tg_data_dict, \n",
    "    sat_data_dict, \n",
    "    event, \n",
    "    baseline_dict=True, \n",
    "    normalize_zero=True,\n",
    "    has_been_resampled = False,\n",
    "    xlab=\"xlab\", ylab=\"ylab\", type_sensor='sensor'):\n",
    "\n",
    "    event_tg_data = tg_data_dict.get(event, None)\n",
    "    event_sat_data = sat_data_dict.get(event, None)\n",
    "    \n",
    "    if event_tg_data is None:\n",
    "        print(f\"Event '{event}' not found in the TG dictionary.\")\n",
    "        return\n",
    "    if event_sat_data is None:\n",
    "        print(f\"Event '{event}' not found in the SATELLITE dictionary.\")\n",
    "        return\n",
    "\n",
    "    # Create a plot for the time series\n",
    "    plt.figure(figsize=(12, 6))\n",
    "\n",
    "    for idx, (location, tg_values) in enumerate(event_tg_data.items()):\n",
    "        # Assuming tg_values is a NumPy array or a list\n",
    "        if len(tg_values.shape) == 2:\n",
    "            # Convert 2D array to 1D by taking the mean along axis 0 (columns)\n",
    "            tg_values = np.mean(tg_values, axis=0)\n",
    "\n",
    "        time_tg = range(len(tg_values))\n",
    "\n",
    "        # Plot bl1 and bl2 for tg_data as points (disconnected from the time series)\n",
    "      #  bl1 = baseline_dict[event][location][\"bl1\"]\n",
    "      #  bl2 = baseline_dict[event][location][\"bl2\"]\n",
    "      #  plt.scatter(-1, bl1, color=colors[list(colors.keys())[idx]], label=f\"{location} - TG bl1\", marker=\"*\")\n",
    "      #  plt.scatter(len(time_tg), bl2, color=colors[list(colors.keys())[idx]], label=f\"{location} - TG bl2\", marker=\"*\")\n",
    "\n",
    "        if normalize_zero: \n",
    "            tg_values = tg_values - tg_values.mean()\n",
    "        \n",
    "        if has_been_resampled: \n",
    "            time_tg = np.arange(0, len(tg_values)) * 24  # Convert days to hours for x-axis\n",
    "            plt.plot(time_tg, tg_values, color=colors[list(colors.keys())[idx]], label=f\"{location} - TG Time Series\")\n",
    "\n",
    "        else:\n",
    "            # Plot the tg_data time series\n",
    "            plt.plot(time_tg, tg_values, color=colors[list(colors.keys())[idx]], label=f\"{location} - TG Time Series\")\n",
    "\n",
    "        # Find corresponding sat_data and plot its time series\n",
    "        if location in event_sat_data:\n",
    "            sat_values = event_sat_data[location]\n",
    "            \n",
    "            if normalize_zero:\n",
    "                sat_values = sat_values - sat_values.mean()\n",
    "            \n",
    "            time_sat = np.arange(0, len(sat_values)) * 24  # Convert days to hours for x-axis\n",
    "            plt.plot(time_sat, sat_values, linestyle='dashed', color=colors[list(colors.keys())[idx]], label=f\"{location} - SAT Time Series\")\n",
    "\n",
    "    # Set plot properties\n",
    "    plt.xlabel(xlab)\n",
    "    plt.ylabel(ylab)\n",
    "    plt.title(f\"Time Series for Event: {event} [{type_sensor}]\")\n",
    "    plt.legend(bbox_to_anchor=(1.05, 1.0), loc='upper left')\n",
    "    plt.grid(True)\n",
    "\n",
    "    # Show the plot\n",
    "    plt.show()"
   ]
  },
  {
   "cell_type": "markdown",
   "id": "58c1471e-e61a-4c7d-827c-60e0e7b525ba",
   "metadata": {
    "tags": []
   },
   "source": [
    "##### function: plot_time_series("
   ]
  },
  {
   "cell_type": "code",
   "execution_count": 7,
   "id": "9f7a8acd-3866-448f-be87-c462e08e08a0",
   "metadata": {
    "tags": []
   },
   "outputs": [],
   "source": [
    "def plot_time_series(data_dict, event, baseline_dict=True, xlab=\"xlab\", ylab=\"ylab\", type_sensor='sensor'):\n",
    "    \n",
    "    event_data = data_dict.get(event, None)\n",
    "    if event_data is None:\n",
    "        print(f\"Event '{event}' not found in the dictionary.\")\n",
    "        return\n",
    "\n",
    "    # Create a plot for the time series\n",
    "    plt.figure(figsize=(12, 6))\n",
    "\n",
    "    for idx, (location, values) in enumerate(event_data.items()):\n",
    "        # Assuming values is a NumPy array or a list\n",
    "        if len(values.shape) == 2:\n",
    "            # Convert 2D array to 1D by taking the mean along axis 0 (columns)\n",
    "            values = np.mean(values, axis=0)\n",
    "\n",
    "        time = range(len(values))\n",
    "\n",
    "        bl1 = baseline_dict[event][location][\"bl1\"]\n",
    "        bl2 = baseline_dict[event][location][\"bl2\"]\n",
    "\n",
    "        # Plot bl1 as a point (disconnected from the time series)\n",
    "        plt.scatter(-1, bl1, color=colors[list(colors.keys())[idx]], label=f\"{location} - bl1\", marker=\"*\")\n",
    "\n",
    "        # Plot the time series\n",
    "        plt.plot(time, values, color=colors[list(colors.keys())[idx]], label=f\"{location} - Time Series\")\n",
    "\n",
    "        # Plot bl2 as a point (disconnected from the time series)\n",
    "        plt.scatter(len(time), bl2, color=colors[list(colors.keys())[idx]], label=f\"{location} - bl2\", marker=\"*\")\n",
    "\n",
    "    # Set plot properties\n",
    "    plt.xlabel(xlab)\n",
    "    plt.ylabel(ylab)\n",
    "    plt.title(f\"Time Series for Event: {event} [{type_sensor}]\")\n",
    "    #    plt.legend(loc=\"right\")\n",
    "    plt.legend(bbox_to_anchor=(1.05, 1.0), loc='upper left')\n",
    "\n",
    "    plt.grid(True)\n",
    "\n",
    "    # Show the plot\n",
    "    plt.show()"
   ]
  },
  {
   "cell_type": "markdown",
   "id": "a929bfb9-f668-42aa-b2e6-cfb636f09fc0",
   "metadata": {
    "tags": []
   },
   "source": [
    "##### function: pooch_load() get_baseline_date()"
   ]
  },
  {
   "cell_type": "code",
   "execution_count": 8,
   "id": "25bd3e25-96cd-4ca0-8813-ca0f4f3827be",
   "metadata": {
    "tags": []
   },
   "outputs": [],
   "source": [
    "# helper functions\n",
    "\n",
    "def pooch_load(filelocation=None,filename=None,processor=None):\n",
    "    shared_location='/home/jovyan/shared/Data/Projects/Sea_Level' # this is different for each day\n",
    "    user_temp_cache=tempfile.gettempdir()\n",
    "    \n",
    "    if os.path.exists(os.path.join(shared_location,filename)):\n",
    "        file = os.path.join(shared_location,filename)\n",
    "    else:\n",
    "        file = pooch.retrieve(filelocation,known_hash=None,fname=os.path.join(user_temp_cache,filename),processor=processor)\n",
    "\n",
    "    return file\n",
    "\n",
    "import numpy as np\n",
    "\n",
    "    \n",
    "def get_baseline_date(ref_date, date_meaning):\n",
    "    \n",
    "    if date_meaning == \"start\":\n",
    "        \n",
    "        # Get the date 2 months prior to ref_date\n",
    "        bound1 = ref_date - timedelta(days=60)\n",
    "        # Get the date 1 month prior to ref_date\n",
    "        bound2 = ref_date - timedelta(days=30)\n",
    "        \n",
    "        \n",
    "    elif date_meaning == \"end\":\n",
    "        # Get the date 1 month post ref_date\n",
    "        bound1 = ref_date + timedelta(days=30)\n",
    "        # Get the date 2 months after ref_date\n",
    "        bound2 = ref_date + timedelta(days=60)\n",
    "    else:\n",
    "        raise ValueError(\"Invalid date_meaning. Use 'start' or 'end'.\")\n",
    "\n",
    "    return bound1, bound2"
   ]
  },
  {
   "cell_type": "markdown",
   "id": "9af3ae00-e232-44ba-bbaf-4d681e20a836",
   "metadata": {
    "tags": []
   },
   "source": [
    "##### function: get_ds_for_date_range()"
   ]
  },
  {
   "cell_type": "code",
   "execution_count": 9,
   "id": "e0276b0d-b2a0-4e9e-aecc-6f15044e49f6",
   "metadata": {
    "tags": []
   },
   "outputs": [],
   "source": [
    "\n",
    "def get_ds_for_date_range(start_date, end_date, auth=(\"franckprts\", \"hebm0LsvcHr#1N7QjYL\")):\n",
    "    \n",
    "    # Calculate the number of days in the range\n",
    "    num_days = (end_date - start_date).days + 1\n",
    "\n",
    "    datasets = []\n",
    "\n",
    "    for i in range(num_days):\n",
    "        date_req = (start_date + timedelta(days=i)).strftime(\"%Y-%m-%d\")\n",
    "\n",
    "#   native     ecco_url = \"https://ecco.jpl.nasa.gov/drive/files/Version4/Release4b/native/daily/SSH/\"\n",
    "        ecco_url = \"https://ecco.jpl.nasa.gov/drive/files/Version4/Release4b/latlon/daily/SSH\"\n",
    "#   native     file_req = f\"SEA_SURFACE_HEIGHT_day_mean_{date_req}_ECCO_V4r4b_latlon_llc0090.nc\"\n",
    "        file_req = f\"SEA_SURFACE_HEIGHT_day_mean_{date_req}_ECCO_V4r4b_latlon_0p50deg.nc\"\n",
    "        \n",
    "        if not os.path.exists(\"./data/{}\".format(file_req)):\n",
    "            \n",
    "            fn = os.path.join(ecco_url, file_req)\n",
    "\n",
    "            # let the downloader know the login credentials\n",
    "            downloader = HTTPDownloader(auth=auth)\n",
    "            downloader(url=fn, output_file=\"./data/{}\".format(file_req), pooch=None)\n",
    "\n",
    "            dataset = xr.open_dataset(\"./data/{}\".format(file_req))\n",
    "            datasets.append(dataset)\n",
    "\n",
    "        else:\n",
    "            dataset = xr.open_dataset(\"./data/{}\".format(file_req))\n",
    "            datasets.append(dataset)\n",
    "            \n",
    "\n",
    "    return xr.concat(datasets, dim=\"time\")\n"
   ]
  },
  {
   "cell_type": "markdown",
   "id": "97d3ea7e-123e-44fc-9c82-2d589d89566e",
   "metadata": {},
   "source": [
    "**function: plot_area()**"
   ]
  },
  {
   "cell_type": "code",
   "execution_count": 30,
   "id": "0d56c394-7690-4006-b3a1-2f937cd9143e",
   "metadata": {
    "tags": []
   },
   "outputs": [],
   "source": [
    "def plot_area(ds, lat_min, lat_max, lon_min, lon_max, tg, tg_precise=None):\n",
    "    # Slice the dataset based on latitude and longitude\n",
    "    print(slice(lat_min, lat_max))\n",
    "    ds_zoom = ds.sel(latitude=slice(lat_min, lat_max), longitude=slice(lon_min, lon_max))\n",
    "\n",
    "    # Set up the plot\n",
    "    fig = plt.figure(figsize=(10, 8))\n",
    "    ax = plt.axes(projection=ccrs.PlateCarree())\n",
    "\n",
    "    # Select a specific time slice, for example, the first time step\n",
    "    time_slice = 0\n",
    "    ds_time_slice = ds_zoom.isel(time=time_slice)\n",
    "\n",
    "    # Plot the data using pcolormesh\n",
    "    ds_time_slice[\"SSH\"].plot.pcolormesh(ax=ax, x=\"longitude\", y=\"latitude\", transform=ccrs.PlateCarree())\n",
    "\n",
    "    # Add triangle markers for the provided locations in tg\n",
    "    for (idx, (location, coords)), color in zip(enumerate(tg.items()), colors):\n",
    "        lat, lon = coords[\"lat\"], coords[\"lon\"]\n",
    "        ax.plot(lon, lat, marker=\"^\", color=color, markersize=8, transform=ccrs.PlateCarree(), label=location)\n",
    "\n",
    "    if tg_precise is not None:\n",
    "        for (idx, (location, coords)), color in zip(enumerate(tg_precise.items()), colors):\n",
    "                lat, lon = coords[\"lat\"], coords[\"lon\"]\n",
    "                ax.plot(lon, lat, marker=\"*\", color=color, markersize=8, transform=ccrs.PlateCarree(), label=location)\n",
    "\n",
    "    # Add legend\n",
    "    ax.legend()\n",
    "\n",
    "    # Add map features\n",
    "    ax.coastlines()\n",
    "    ax.gridlines(draw_labels=True)\n",
    "\n",
    "    # Add a title\n",
    "    plt.title(\"Sea Surface Height\")\n",
    "#    plt.legend(bbox_to_anchor=(1.05, 1.0), loc='upper left')\n",
    "\n",
    "    # Show the plot\n",
    "    plt.show()\n"
   ]
  },
  {
   "cell_type": "markdown",
   "id": "5f46d019",
   "metadata": {},
   "source": [
    "**plot_bland_altman()**"
   ]
  },
  {
   "cell_type": "code",
   "execution_count": 11,
   "id": "f35a5fdd",
   "metadata": {},
   "outputs": [],
   "source": [
    "def plot_bland_altman(event, locat, ar_allLoc_allEvent_tg, ar_allLoc_allEvent_sat, save_fig:True, plot_fig:True):\n",
    "    tidal_gauge = ar_allLoc_allEvent_tg[event][locat]\n",
    "    satellite_altimetry = ar_allLoc_allEvent_sat[event][locat]\n",
    "\n",
    "    differences = tidal_gauge - satellite_altimetry\n",
    "\n",
    "    mean_difference = np.mean(differences)\n",
    "    std_difference = np.std(differences)\n",
    "    upper_limit = mean_difference + 1.96 * std_difference\n",
    "    lower_limit = mean_difference - 1.96 * std_difference\n",
    "\n",
    "    plt.scatter(np.mean([tidal_gauge, satellite_altimetry], axis=0), differences)\n",
    "    plt.axhline(mean_difference, color='red', linestyle='--', label='Mean Difference')\n",
    "    plt.axhline(upper_limit, color='orange', linestyle='--', label='Upper Limit')\n",
    "    plt.axhline(lower_limit, color='orange', linestyle='--', label='Lower Limit')\n",
    "    plt.xlabel('Mean of Tidal Gauge and ECCO Altitude')\n",
    "    plt.ylabel('Difference (Tidal Gauge - ECCO Altitude)')\n",
    "    plt.title(f'Bland-Altman Plot for {event} at {locat}')\n",
    "    plt.legend()\n",
    "    plt.grid(True)\n",
    "\n",
    "    if save_fig:\n",
    "        figure_dir = './figures/'\n",
    "        os.makedirs(figure_dir, exist_ok=True)\n",
    "\n",
    "        plot_filename = f'bland_altman_{event}_{locat.replace(\", \", \"_\")}.png'\n",
    "        plt.savefig(os.path.join(figure_dir, plot_filename))\n",
    "    if plot_fig: plt.show()\n",
    "    else: plt.close()"
   ]
  },
  {
   "cell_type": "markdown",
   "id": "d17a2438-dc34-47d6-af14-31f77b284dda",
   "metadata": {
    "tags": []
   },
   "source": [
    "## First, getting the satelite data"
   ]
  },
  {
   "cell_type": "code",
   "execution_count": 12,
   "id": "d92634c1-6e51-40f2-b50a-2a014484843a",
   "metadata": {
    "tags": []
   },
   "outputs": [
    {
     "name": "stdout",
     "output_type": "stream",
     "text": [
      "\n",
      "doing: Sandy\n",
      "—— Atlantic City, NJ (precise)\t\tlat: 39.355\tlon: -74.418\n",
      "—— Montauk, NY (precise)\t\tlat: 40.693\tlon: -72.049\n",
      "—— The Battery, NY (precise)\t\tlat: 40.701\tlon: -73.75\n",
      "\n",
      "doing: Maria\n",
      "—— Penuelas, PR (precise)\t\tlat: 17.4\tlon: -66.762\n",
      "—— Isabel Segunda, PR (precise)\t\tlat: 18.152\tlon: -65.443\n",
      "—— Esperanza, PR (precise)\t\tlat: 18.093\tlon: -65.47\n",
      "—— Arecibo, PR (precise)\t\tlat: 18.5\tlon: -66.702\n",
      "—— Mayaguez, PR (precise)\t\tlat: 18.22\tlon: -67.16\n",
      "—— Fajardo, PR (precise)\t\tlat: 18.333\tlon: -65.633\n",
      "\n",
      "doing: Ketsana\n",
      "—— Malakal, Palau (precise)\t\tlat: 7.33\tlon: 134.463\n",
      "—— Legaspi, Philippines (precise)\t\tlat: 13.15\tlon: 124.1\n",
      "—— Subic Bay, Philippines (precise)\t\tlat: 14.765\tlon: 119.9\n",
      "—— Qui Nhon, Vietnam (precise)\t\tlat: 13.775\tlon: 109.255\n"
     ]
    }
   ],
   "source": [
    "# Init a dict where the data for all event / locaiton are stored \n",
    "\n",
    "## At the lowest level, the the dict ds_allLoc_allEvent will only contain the \n",
    "## data of a given event (timewise), for a precise location (nearest - we use \n",
    "## the tg_precise for sampling the SSH)\n",
    "\n",
    "\n",
    "doingBaselines = True \n",
    "\n",
    "ds_allLoc_allEvent_sat = {} # store the ds\n",
    "ar_allLoc_allEvent_sat = {} # just store the array\n",
    "bl_allLoc_allEvent_sat = {} # store the baseline arrays\n",
    "\n",
    "for event in storm_repo.keys():   \n",
    "#for event in [\"Sandy\"]:   \n",
    "\n",
    "    print(\"\\ndoing: {}\".format(event))\n",
    "    \n",
    "    start_date = storm_repo[event][\"start_date\"]\n",
    "    end_date   = storm_repo[event][\"end_date\"]\n",
    "\n",
    "    ds = get_ds_for_date_range(start_date, end_date)\n",
    "\n",
    "    if doingBaselines:\n",
    "        b1_start, b1_end = get_baseline_date(start_date, \"start\")\n",
    "        b2_start, b2_end = get_baseline_date(end_date, \"end\")\n",
    "\n",
    "        ds_baseline_1 =  get_ds_for_date_range(b1_start, b1_end)\n",
    "        ds_baseline_2 =  get_ds_for_date_range(b2_start, b2_end)\n",
    "    \n",
    "    ds_loc = {}\n",
    "    ar_loc = {}\n",
    "    bl_loc = {}\n",
    "    \n",
    "    for loc in storm_repo[event][\"tg_precise\"].keys():\n",
    "        \n",
    "        print(\"—— {}\\t\\tlat: {}\\tlon: {}\".format(loc, storm_repo[event][\"tg_precise\"][loc][\"lat\"], storm_repo[event][\"tg_precise\"][loc][\"lon\"]))\n",
    " \n",
    "        # Fist we deal with the data of the event \n",
    "        tmp = ds.sel(\n",
    "            latitude  = storm_repo[event][\"tg_precise\"][loc][\"lat\"],\n",
    "            longitude = storm_repo[event][\"tg_precise\"][loc][\"lon\"], \n",
    "            method='nearest')\n",
    "\n",
    "        ds_loc[loc[:-10]] = tmp\n",
    "        ar_loc[loc[:-10]] = tmp[\"SSH\"].values\n",
    "\n",
    "        if doingBaselines: \n",
    "            tmp_bl1 = ds_baseline_1.sel(\n",
    "                latitude  = storm_repo[event][\"tg_precise\"][loc][\"lat\"],\n",
    "                longitude = storm_repo[event][\"tg_precise\"][loc][\"lon\"], \n",
    "                method='nearest')\n",
    "\n",
    "            bl_loc[loc[:-10]] = tmp_bl1[\"SSH\"].values\n",
    "\n",
    "            tmp_bl2 = ds_baseline_2.sel(\n",
    "                latitude  = storm_repo[event][\"tg_precise\"][loc][\"lat\"],\n",
    "                longitude = storm_repo[event][\"tg_precise\"][loc][\"lon\"], \n",
    "                method='nearest')\n",
    "\n",
    "            bl_loc[loc[:-10]]= {}\n",
    "            \n",
    "            bl_loc[loc[:-10]][\"values_bl1\"] = tmp_bl1[\"SSH\"].values\n",
    "            bl_loc[loc[:-10]][\"values_bl2\"] = tmp_bl2[\"SSH\"].values\n",
    "            bl_loc[loc[:-10]][\"bl1\"]        = tmp_bl1[\"SSH\"].values.mean()\n",
    "            bl_loc[loc[:-10]][\"bl2\"]        = tmp_bl2[\"SSH\"].values.mean()\n",
    "\n",
    "    \n",
    "    ds_allLoc_allEvent_sat[event] = ds_loc\n",
    "    ar_allLoc_allEvent_sat[event] = ar_loc\n",
    "    bl_allLoc_allEvent_sat[event] = bl_loc"
   ]
  },
  {
   "cell_type": "code",
   "execution_count": 13,
   "id": "96910caa-f25e-4218-9f37-c5a0a496cef7",
   "metadata": {
    "tags": []
   },
   "outputs": [
    {
     "data": {
      "text/plain": [
       "dict_keys(['Malakal, Palau', 'Legaspi, Philippines', 'Subic Bay, Philippines', 'Qui Nhon, Vietnam'])"
      ]
     },
     "execution_count": 13,
     "metadata": {},
     "output_type": "execute_result"
    }
   ],
   "source": [
    "ds_allLoc_allEvent_sat[\"Ketsana\"].keys()"
   ]
  },
  {
   "cell_type": "markdown",
   "id": "548441d5-eff6-4378-922c-56be2e94226e",
   "metadata": {
    "tags": []
   },
   "source": [
    "## Second, getting the TG data"
   ]
  },
  {
   "cell_type": "code",
   "execution_count": 14,
   "id": "63d66abd-8d4f-47ae-9611-ee6a489da545",
   "metadata": {
    "tags": []
   },
   "outputs": [],
   "source": [
    "doingBaselines = True \n",
    "resample_tg    = True"
   ]
  },
  {
   "cell_type": "code",
   "execution_count": 15,
   "id": "359f4afa-c9f1-4ad3-860d-60a057b2b39c",
   "metadata": {
    "tags": []
   },
   "outputs": [
    {
     "name": "stdout",
     "output_type": "stream",
     "text": [
      "\n",
      "doing: Sandy\n",
      "\n",
      "doing: Maria\n"
     ]
    },
    {
     "name": "stderr",
     "output_type": "stream",
     "text": [
      "/var/folders/vv/stc9rswn5c95vxdzpx7z6qqr0000gn/T/ipykernel_13042/3022756264.py:63: RuntimeWarning: Mean of empty slice\n",
      "  bl_allLoc_allEvent_tg[event][location][\"bl1\"] = np.nanmean(ds_baseline_1.sea_level.values/1000)\n",
      "/var/folders/vv/stc9rswn5c95vxdzpx7z6qqr0000gn/T/ipykernel_13042/3022756264.py:64: RuntimeWarning: Mean of empty slice\n",
      "  bl_allLoc_allEvent_tg[event][location][\"bl2\"] = np.nanmean(ds_baseline_2.sea_level.values/1000)\n",
      "/var/folders/vv/stc9rswn5c95vxdzpx7z6qqr0000gn/T/ipykernel_13042/3022756264.py:64: RuntimeWarning: Mean of empty slice\n",
      "  bl_allLoc_allEvent_tg[event][location][\"bl2\"] = np.nanmean(ds_baseline_2.sea_level.values/1000)\n",
      "/var/folders/vv/stc9rswn5c95vxdzpx7z6qqr0000gn/T/ipykernel_13042/3022756264.py:64: RuntimeWarning: Mean of empty slice\n",
      "  bl_allLoc_allEvent_tg[event][location][\"bl2\"] = np.nanmean(ds_baseline_2.sea_level.values/1000)\n",
      "/var/folders/vv/stc9rswn5c95vxdzpx7z6qqr0000gn/T/ipykernel_13042/3022756264.py:64: RuntimeWarning: Mean of empty slice\n",
      "  bl_allLoc_allEvent_tg[event][location][\"bl2\"] = np.nanmean(ds_baseline_2.sea_level.values/1000)\n",
      "/var/folders/vv/stc9rswn5c95vxdzpx7z6qqr0000gn/T/ipykernel_13042/3022756264.py:64: RuntimeWarning: Mean of empty slice\n",
      "  bl_allLoc_allEvent_tg[event][location][\"bl2\"] = np.nanmean(ds_baseline_2.sea_level.values/1000)\n"
     ]
    },
    {
     "name": "stdout",
     "output_type": "stream",
     "text": [
      "\n",
      "doing: Ketsana\n"
     ]
    }
   ],
   "source": [
    "\n",
    "\n",
    "ar_allLoc_allEvent_tg = {} # just store the array\n",
    "bl_allLoc_allEvent_tg = {} # store the baseline arrays\n",
    "ds_allLoc_allEvent_tg = {} # store the datasets\n",
    "\n",
    "#for event in [\"Sandy\"]:\n",
    "for event in tg_repo.keys():\n",
    "    \n",
    "    print(\"\\ndoing: {}\".format(event))\n",
    "\n",
    "    locations = tg_repo.get(event)\n",
    "\n",
    "    #seting up empty ar dict for each event\n",
    "    ar_allLoc_allEvent_tg[event] = {}\n",
    "    bl_allLoc_allEvent_tg[event] = {}\n",
    "    ds_allLoc_allEvent_tg[event] = {}\n",
    "\n",
    "    for location in locations.keys():\n",
    "        url_choosen = locations[location]\n",
    "        ds = xr.open_dataset(pooch.retrieve(url_choosen, known_hash=None))\n",
    "        \n",
    "        # Cut the baseline and time of event from ds\n",
    "        start_date = storm_repo[event][\"start_date\"]\n",
    "        end_date   = storm_repo[event][\"end_date\"]\n",
    "        \n",
    "        # Get the event data\n",
    "        ds_event = ds.sel(time=slice(\n",
    "            storm_repo[event][\"start_date\"],\n",
    "            storm_repo[event][\"end_date\"]))\n",
    "        \n",
    "        if resample_tg:\n",
    "            try:\n",
    "                resampled = ds_event.resample(time=\"D\")\n",
    "                resampled = resampled.mean()\n",
    "                ar_allLoc_allEvent_tg[event][location] = resampled.sea_level.values.flatten() /1000\n",
    "            except:\n",
    "                pass\n",
    "        else:\n",
    "            ar_allLoc_allEvent_tg[event][location] = ds_event.sea_level.values.flatten() /1000\n",
    "        \n",
    "    ############\n",
    "          #  if resample_tg:\n",
    "       #     resampled = ds_event.sea_level.resample(time=\"D\")\n",
    "     #       resampled = resampled.mean()\n",
    "     #       ar_allLoc_allEvent_tg[event][location] = resampled.values.squeeze()/1000\n",
    "    #    else:\n",
    "   #         ar_allLoc_allEvent_tg[event][location] = ds_event.sea_level.values/1000\n",
    "            #################\n",
    "        \n",
    "        \n",
    "        # get the baseline\n",
    "        if doingBaselines: \n",
    "            b1_start, b1_end = get_baseline_date(start_date, \"start\")\n",
    "            b2_start, b2_end = get_baseline_date(end_date, \"end\")\n",
    "\n",
    "            ds_baseline_1 =  ds.sel(time=slice(b1_start, b1_end))\n",
    "            ds_baseline_2 =  ds.sel(time=slice(b2_start, b2_end))\n",
    "            \n",
    "            bl_allLoc_allEvent_tg[event][location] = {}\n",
    "            \n",
    "            # Store the timeseries and convert them in meters\n",
    "            bl_allLoc_allEvent_tg[event][location][\"values_bl1\"] = ds_baseline_1.sea_level.values/1000\n",
    "            bl_allLoc_allEvent_tg[event][location][\"values_bl2\"] = ds_baseline_2.sea_level.values/1000\n",
    "            bl_allLoc_allEvent_tg[event][location][\"bl1\"] = np.nanmean(ds_baseline_1.sea_level.values/1000)\n",
    "            bl_allLoc_allEvent_tg[event][location][\"bl2\"] = np.nanmean(ds_baseline_2.sea_level.values/1000)\n"
   ]
  },
  {
   "cell_type": "markdown",
   "id": "6b27aca7-f09a-4013-847f-cb29bca8c447",
   "metadata": {},
   "source": [
    "#### Adding the CSV data to the ar_dict and bl_dict"
   ]
  },
  {
   "cell_type": "markdown",
   "id": "33f03552-1ee9-4845-86d4-c01ef96e063b",
   "metadata": {},
   "source": [
    "The battery : bl1, bl2, mean_bl1, mean_bl2, event_period_np\n",
    "\n",
    "Mountauk : bl1_Mountauk, bl2_Mountauk, mean_bl1_Mountauk, mean_bl2_Mountauk, event_period_np"
   ]
  },
  {
   "cell_type": "code",
   "execution_count": 16,
   "id": "b9fa8b42-1b21-4fa3-84bf-a2b702f2b8d8",
   "metadata": {
    "tags": []
   },
   "outputs": [],
   "source": [
    "theBat = np.load(\"./data/ts_battery.npy\", allow_pickle=True)\n",
    "theBat.shape\n",
    "\n",
    "if resample_tg:\n",
    "    daily_data = theBat[4].reshape(-1, 24)\n",
    "\n",
    "    # Calculate the daily mean for each day (axis=1)\n",
    "    daily_mean_data = np.mean(daily_data, axis=1)\n",
    "\n",
    "    # If you want to keep the result as a 1D array, flatten the daily_mean_data\n",
    "    daily_mean_data = daily_mean_data.flatten()\n",
    "    \n",
    "    ar_allLoc_allEvent_tg[\"Sandy\"][\"The Battery, NY\"] = daily_mean_data\n",
    "    \n",
    "else:\n",
    "    ar_allLoc_allEvent_tg[\"Sandy\"][\"The Battery, NY\"] = theBat[4]\n",
    "\n",
    "\n",
    "bl_allLoc_allEvent_tg[\"Sandy\"][\"The Battery, NY\"] = {}\n",
    "bl_allLoc_allEvent_tg[\"Sandy\"][\"The Battery, NY\"][\"values_bl1\"]=  theBat[0]\n",
    "bl_allLoc_allEvent_tg[\"Sandy\"][\"The Battery, NY\"][\"values_bl2\"]=  theBat[1]\n",
    "bl_allLoc_allEvent_tg[\"Sandy\"][\"The Battery, NY\"][\"bl1\"]=  theBat[2]\n",
    "bl_allLoc_allEvent_tg[\"Sandy\"][\"The Battery, NY\"][\"bl2\"]=  theBat[3]"
   ]
  },
  {
   "cell_type": "code",
   "execution_count": 17,
   "id": "7e8f32e0-5d5d-4117-aaac-4043f0e12099",
   "metadata": {
    "tags": []
   },
   "outputs": [],
   "source": [
    "Mont = np.load(\"./data/ts_montauk.npy\", allow_pickle=True)\n",
    "Mont.shape\n",
    "\n",
    "if resample_tg:\n",
    "    daily_data = Mont[4].reshape(-1, 24)\n",
    "\n",
    "    # Calculate the daily mean for each day (axis=1)\n",
    "    daily_mean_data = np.mean(daily_data, axis=1)\n",
    "\n",
    "    # If you want to keep the result as a 1D array, flatten the daily_mean_data\n",
    "    daily_mean_data = daily_mean_data.flatten()\n",
    "    \n",
    "    ar_allLoc_allEvent_tg[\"Sandy\"][\"Montauk, NY\"] = daily_mean_data\n",
    "    \n",
    "else:\n",
    "    ar_allLoc_allEvent_tg[\"Sandy\"][\"Montauk, NY\"] =  Mont[4]\n",
    "\n",
    "\n",
    "bl_allLoc_allEvent_tg[\"Sandy\"][\"Montauk, NY\"] = {}\n",
    "bl_allLoc_allEvent_tg[\"Sandy\"][\"Montauk, NY\"][\"values_bl1\"]=  Mont[0]\n",
    "bl_allLoc_allEvent_tg[\"Sandy\"][\"Montauk, NY\"][\"values_bl2\"]=  Mont[1]\n",
    "bl_allLoc_allEvent_tg[\"Sandy\"][\"Montauk, NY\"][\"bl1\"]=  Mont[2]\n",
    "bl_allLoc_allEvent_tg[\"Sandy\"][\"Montauk, NY\"][\"bl2\"]=  Mont[3]"
   ]
  },
  {
   "cell_type": "code",
   "execution_count": 18,
   "id": "31d21f5b-dbdf-4a55-9a77-b37e2b49ebef",
   "metadata": {
    "tags": []
   },
   "outputs": [
    {
     "data": {
      "text/plain": [
       "{'Sandy': {'Atlantic City, NJ': array([2.3029168, 2.2109582, 2.267375 , 2.3500834, 2.3723333, 2.395125 ,\n",
       "         2.4925418, 2.6927083, 3.3128333, 2.7669168, 2.949    ],\n",
       "        dtype=float32),\n",
       "  'The Battery, NY': array([0.86383333, 0.75591667, 0.841125  , 0.91070833, 0.92254167,\n",
       "         0.92995833, 1.02020833, 1.32791667, 2.02441667, 1.95225   ,\n",
       "         1.183625  ]),\n",
       "  'Montauk, NY': array([0.513375  , 0.38629167, 0.46041667, 0.51154167, 0.51291667,\n",
       "         0.53516667, 0.62045833, 0.853375  , 1.4255    , 1.07508333,\n",
       "         0.80125   ])},\n",
       " 'Maria': {'Isabel Segunda, PR': array([2.5670834, 2.574    , 2.6010833, 2.6390831, 2.726875 , 2.4067082,\n",
       "         2.441    , 2.4777918, 2.4540832, 2.4294581, 2.427    , 2.4310832,\n",
       "         2.4540832, 2.4359581, 2.4419582, 2.46675  , 2.605    ],\n",
       "        dtype=float32),\n",
       "  'Esperanza, PR': array([2.156    , 2.1659167, 2.1744168, 2.2102919, 2.2844284,       nan,\n",
       "               nan,       nan,       nan,       nan,       nan,       nan,\n",
       "               nan,       nan,       nan,       nan,       nan],\n",
       "        dtype=float32),\n",
       "  'Arecibo, PR': array([7.0885835, 7.0897083, 7.1107087, 7.119375 , 7.3042917, 7.1075835,\n",
       "         7.0328336, 7.033875 , 6.9400773,       nan,       nan,       nan,\n",
       "               nan,       nan,       nan,       nan,       nan],\n",
       "        dtype=float32),\n",
       "  'Mayaguez, PR': array([1.3431666, 1.36125  , 1.3687084, 1.3675834, 1.5144   ,       nan,\n",
       "               nan,       nan,       nan,       nan,       nan,       nan,\n",
       "               nan,       nan,       nan,       nan,       nan],\n",
       "        dtype=float32),\n",
       "  'Fajardo, PR': array([7.4294167, 7.440875 , 7.446875 , 7.4800835, 7.7212224],\n",
       "        dtype=float32)},\n",
       " 'Ketsana': {'Malakal, Palau': array([1.6875416, 1.7291666, 1.7086667, 1.720375 , 1.7877084, 1.425    ],\n",
       "        dtype=float32),\n",
       "  'Legaspi, Philippines': array([nan, nan, nan, nan, nan, nan], dtype=float32),\n",
       "  'Manila, Philippines': array([3.124125 , 3.2950418, 3.17875  , 3.1715832, 3.118125 , 3.49     ],\n",
       "        dtype=float32),\n",
       "  'Subic Bay, Philippines': array([1.2933334, 1.402    , 1.374125 , 1.3550416, 1.32675  , 1.652    ],\n",
       "        dtype=float32),\n",
       "  'Qui Nhon, Vietnam': array([1.559625 , 1.5718334, 1.62825  , 1.768625 , 1.9160416, 2.155    ],\n",
       "        dtype=float32)}}"
      ]
     },
     "execution_count": 18,
     "metadata": {},
     "output_type": "execute_result"
    }
   ],
   "source": [
    "ar_allLoc_allEvent_tg # [\"Sandy\"].pop('The Battery, NYC')"
   ]
  },
  {
   "cell_type": "markdown",
   "id": "ef2fb1e9-9f6a-4c28-8696-0cf9cae87085",
   "metadata": {
    "tags": []
   },
   "source": [
    "# Stats"
   ]
  },
  {
   "cell_type": "code",
   "execution_count": 19,
   "id": "ba07584f-5792-4801-b737-5c85044ae479",
   "metadata": {
    "tags": []
   },
   "outputs": [
    {
     "data": {
      "text/html": [
       "<div>\n",
       "<style scoped>\n",
       "    .dataframe tbody tr th:only-of-type {\n",
       "        vertical-align: middle;\n",
       "    }\n",
       "\n",
       "    .dataframe tbody tr th {\n",
       "        vertical-align: top;\n",
       "    }\n",
       "\n",
       "    .dataframe thead th {\n",
       "        text-align: right;\n",
       "    }\n",
       "</style>\n",
       "<table border=\"1\" class=\"dataframe\">\n",
       "  <thead>\n",
       "    <tr style=\"text-align: right;\">\n",
       "      <th></th>\n",
       "      <th>Event</th>\n",
       "      <th>Location</th>\n",
       "      <th>Pearons Statistic</th>\n",
       "      <th>Pvalue</th>\n",
       "      <th>Min TG</th>\n",
       "      <th>Max TG</th>\n",
       "      <th>Min SAT</th>\n",
       "      <th>Max SAT</th>\n",
       "      <th>Percent_usable</th>\n",
       "    </tr>\n",
       "  </thead>\n",
       "  <tbody>\n",
       "    <tr>\n",
       "      <th>0</th>\n",
       "      <td>Sandy</td>\n",
       "      <td>Atlantic City, NJ</td>\n",
       "      <td>-0.830777</td>\n",
       "      <td>0.001537</td>\n",
       "      <td>-0.344750</td>\n",
       "      <td>0.757125</td>\n",
       "      <td>-0.011458</td>\n",
       "      <td>0.011458</td>\n",
       "      <td>100.0</td>\n",
       "    </tr>\n",
       "    <tr>\n",
       "      <th>1</th>\n",
       "      <td>Sandy</td>\n",
       "      <td>The Battery, NY</td>\n",
       "      <td>-0.742462</td>\n",
       "      <td>0.008869</td>\n",
       "      <td>-0.401583</td>\n",
       "      <td>0.866917</td>\n",
       "      <td>-0.014469</td>\n",
       "      <td>0.014469</td>\n",
       "      <td>100.0</td>\n",
       "    </tr>\n",
       "    <tr>\n",
       "      <th>2</th>\n",
       "      <td>Sandy</td>\n",
       "      <td>Montauk, NY</td>\n",
       "      <td>-0.753133</td>\n",
       "      <td>0.007456</td>\n",
       "      <td>-0.313288</td>\n",
       "      <td>0.725920</td>\n",
       "      <td>-0.010682</td>\n",
       "      <td>0.010682</td>\n",
       "      <td>100.0</td>\n",
       "    </tr>\n",
       "    <tr>\n",
       "      <th>3</th>\n",
       "      <td>Maria</td>\n",
       "      <td>Isabel Segunda, PR</td>\n",
       "      <td>-0.461112</td>\n",
       "      <td>0.062467</td>\n",
       "      <td>-0.097939</td>\n",
       "      <td>0.222228</td>\n",
       "      <td>-0.001560</td>\n",
       "      <td>0.001560</td>\n",
       "      <td>100.0</td>\n",
       "    </tr>\n",
       "    <tr>\n",
       "      <th>4</th>\n",
       "      <td>Maria</td>\n",
       "      <td>Esperanza, PR</td>\n",
       "      <td>TOO SHORT</td>\n",
       "      <td>TOO SHORT</td>\n",
       "      <td>NaN</td>\n",
       "      <td>NaN</td>\n",
       "      <td>-0.001560</td>\n",
       "      <td>0.001560</td>\n",
       "      <td>0.0</td>\n",
       "    </tr>\n",
       "    <tr>\n",
       "      <th>5</th>\n",
       "      <td>Maria</td>\n",
       "      <td>Arecibo, PR</td>\n",
       "      <td>TOO SHORT</td>\n",
       "      <td>TOO SHORT</td>\n",
       "      <td>NaN</td>\n",
       "      <td>NaN</td>\n",
       "      <td>-0.001668</td>\n",
       "      <td>0.001668</td>\n",
       "      <td>0.0</td>\n",
       "    </tr>\n",
       "    <tr>\n",
       "      <th>6</th>\n",
       "      <td>Maria</td>\n",
       "      <td>Mayaguez, PR</td>\n",
       "      <td>TOO SHORT</td>\n",
       "      <td>TOO SHORT</td>\n",
       "      <td>NaN</td>\n",
       "      <td>NaN</td>\n",
       "      <td>-0.001315</td>\n",
       "      <td>0.001315</td>\n",
       "      <td>0.0</td>\n",
       "    </tr>\n",
       "    <tr>\n",
       "      <th>7</th>\n",
       "      <td>Maria</td>\n",
       "      <td>Fajardo, PR</td>\n",
       "      <td>0.800279</td>\n",
       "      <td>0.103875</td>\n",
       "      <td>-0.074278</td>\n",
       "      <td>0.217527</td>\n",
       "      <td>-0.000390</td>\n",
       "      <td>0.000390</td>\n",
       "      <td>100.0</td>\n",
       "    </tr>\n",
       "    <tr>\n",
       "      <th>8</th>\n",
       "      <td>Ketsana</td>\n",
       "      <td>Malakal, Palau</td>\n",
       "      <td>-0.471233</td>\n",
       "      <td>0.345471</td>\n",
       "      <td>-0.251410</td>\n",
       "      <td>0.111299</td>\n",
       "      <td>-0.001758</td>\n",
       "      <td>0.001758</td>\n",
       "      <td>100.0</td>\n",
       "    </tr>\n",
       "    <tr>\n",
       "      <th>9</th>\n",
       "      <td>Ketsana</td>\n",
       "      <td>Legaspi, Philippines</td>\n",
       "      <td>TOO SHORT</td>\n",
       "      <td>TOO SHORT</td>\n",
       "      <td>NaN</td>\n",
       "      <td>NaN</td>\n",
       "      <td>-0.001937</td>\n",
       "      <td>0.001937</td>\n",
       "      <td>0.0</td>\n",
       "    </tr>\n",
       "    <tr>\n",
       "      <th>10</th>\n",
       "      <td>Ketsana</td>\n",
       "      <td>Manila, Philippines</td>\n",
       "      <td>TOO SHORT</td>\n",
       "      <td>TOO SHORT</td>\n",
       "      <td>-0.111479</td>\n",
       "      <td>0.260396</td>\n",
       "      <td>NaN</td>\n",
       "      <td>NaN</td>\n",
       "      <td>0.0</td>\n",
       "    </tr>\n",
       "    <tr>\n",
       "      <th>11</th>\n",
       "      <td>Ketsana</td>\n",
       "      <td>Subic Bay, Philippines</td>\n",
       "      <td>0.642657</td>\n",
       "      <td>0.168726</td>\n",
       "      <td>-0.107208</td>\n",
       "      <td>0.251458</td>\n",
       "      <td>-0.000841</td>\n",
       "      <td>0.000841</td>\n",
       "      <td>100.0</td>\n",
       "    </tr>\n",
       "    <tr>\n",
       "      <th>12</th>\n",
       "      <td>Ketsana</td>\n",
       "      <td>Qui Nhon, Vietnam</td>\n",
       "      <td>0.94912</td>\n",
       "      <td>0.003817</td>\n",
       "      <td>-0.206937</td>\n",
       "      <td>0.388438</td>\n",
       "      <td>-0.002310</td>\n",
       "      <td>0.002310</td>\n",
       "      <td>100.0</td>\n",
       "    </tr>\n",
       "  </tbody>\n",
       "</table>\n",
       "</div>"
      ],
      "text/plain": [
       "      Event                Location Pearons Statistic     Pvalue    Min TG  \\\n",
       "0     Sandy       Atlantic City, NJ         -0.830777   0.001537 -0.344750   \n",
       "1     Sandy         The Battery, NY         -0.742462   0.008869 -0.401583   \n",
       "2     Sandy             Montauk, NY         -0.753133   0.007456 -0.313288   \n",
       "3     Maria      Isabel Segunda, PR         -0.461112   0.062467 -0.097939   \n",
       "4     Maria           Esperanza, PR         TOO SHORT  TOO SHORT       NaN   \n",
       "5     Maria             Arecibo, PR         TOO SHORT  TOO SHORT       NaN   \n",
       "6     Maria            Mayaguez, PR         TOO SHORT  TOO SHORT       NaN   \n",
       "7     Maria             Fajardo, PR          0.800279   0.103875 -0.074278   \n",
       "8   Ketsana          Malakal, Palau         -0.471233   0.345471 -0.251410   \n",
       "9   Ketsana    Legaspi, Philippines         TOO SHORT  TOO SHORT       NaN   \n",
       "10  Ketsana     Manila, Philippines         TOO SHORT  TOO SHORT -0.111479   \n",
       "11  Ketsana  Subic Bay, Philippines          0.642657   0.168726 -0.107208   \n",
       "12  Ketsana       Qui Nhon, Vietnam           0.94912   0.003817 -0.206937   \n",
       "\n",
       "      Max TG   Min SAT   Max SAT  Percent_usable  \n",
       "0   0.757125 -0.011458  0.011458           100.0  \n",
       "1   0.866917 -0.014469  0.014469           100.0  \n",
       "2   0.725920 -0.010682  0.010682           100.0  \n",
       "3   0.222228 -0.001560  0.001560           100.0  \n",
       "4        NaN -0.001560  0.001560             0.0  \n",
       "5        NaN -0.001668  0.001668             0.0  \n",
       "6        NaN -0.001315  0.001315             0.0  \n",
       "7   0.217527 -0.000390  0.000390           100.0  \n",
       "8   0.111299 -0.001758  0.001758           100.0  \n",
       "9        NaN -0.001937  0.001937             0.0  \n",
       "10  0.260396       NaN       NaN             0.0  \n",
       "11  0.251458 -0.000841  0.000841           100.0  \n",
       "12  0.388438 -0.002310  0.002310           100.0  "
      ]
     },
     "execution_count": 19,
     "metadata": {},
     "output_type": "execute_result"
    }
   ],
   "source": [
    "\n",
    "all_stat = pd.DataFrame(columns=[\"Event\", \"Location\", 'Pearons Statistic', 'Pvalue', 'Min TG', 'Max TG', \"Min SAT\", \"Max SAT\", \"Percent_usable\"])\n",
    "\n",
    "for event in [\"Sandy\", \"Maria\", \"Ketsana\"]:\n",
    "    event_stat = time_series_corr(ar_allLoc_allEvent_tg, ar_allLoc_allEvent_sat, event, normalize_zero=True)\n",
    "    event_stat.reset_index(drop=True, inplace=True)\n",
    "    all_stat   = pd.concat([all_stat, event_stat])\n",
    "\n",
    "all_stat.reset_index(drop=True, inplace=True)\n",
    "all_stat.to_csv(\"./FINAL_RESULTS.csv\", header=True, index=False)\n",
    "all_stat"
   ]
  },
  {
   "cell_type": "markdown",
   "id": "23186bd6-32a5-443d-8a99-d03ae54010cc",
   "metadata": {},
   "source": [
    "### Using Standard Deviation for Hourly Mean:\n",
    "Another option is to find standard deviation for the hourly mean. and compare that to the daily mean. which only has one value. \n",
    "one std is similar to min/max value. for a normal distribution it's at about 67% and 34% if I remember correctly"
   ]
  },
  {
   "cell_type": "code",
   "execution_count": 20,
   "id": "df3712f0-6303-4075-9569-9fe947802600",
   "metadata": {},
   "outputs": [
    {
     "ename": "NameError",
     "evalue": "name 'hourly_data' is not defined",
     "output_type": "error",
     "traceback": [
      "\u001b[0;31m---------------------------------------------------------------------------\u001b[0m",
      "\u001b[0;31mNameError\u001b[0m                                 Traceback (most recent call last)",
      "Cell \u001b[0;32mIn[20], line 18\u001b[0m\n\u001b[1;32m     14\u001b[0m     \u001b[39mreturn\u001b[39;00m hourly_std_per_day, daily_std\n\u001b[1;32m     16\u001b[0m \u001b[39m# Example usage:\u001b[39;00m\n\u001b[1;32m     17\u001b[0m \u001b[39m########################TODO######hourly_data = np.random.rand(24 * 10)\u001b[39;00m\n\u001b[0;32m---> 18\u001b[0m hourly_std_per_day, daily_std \u001b[39m=\u001b[39m compare_std_hourly_to_daily(hourly_data)\n\u001b[1;32m     20\u001b[0m \u001b[39mprint\u001b[39m(\u001b[39m\"\u001b[39m\u001b[39mStandard Deviation of Hourly Mean for Each Day:\u001b[39m\u001b[39m\"\u001b[39m)\n\u001b[1;32m     21\u001b[0m \u001b[39mprint\u001b[39m(hourly_std_per_day)\n",
      "\u001b[0;31mNameError\u001b[0m: name 'hourly_data' is not defined"
     ]
    }
   ],
   "source": [
    "# TODO\n",
    "\n",
    "def compare_std_hourly_to_daily(hourly_data):\n",
    "    # Assuming hourly_data is a 1D numpy array containing hourly time series data\n",
    "    # Resample the hourly data to daily by taking the mean of each day\n",
    "    daily_data = np.mean(hourly_data.reshape(-1, 24), axis=1)\n",
    "\n",
    "    # Calculate the standard deviation for the hourly data separately for each day\n",
    "    hourly_std_per_day = np.std(hourly_data.reshape(-1, 24), axis=1)\n",
    "\n",
    "    # Calculate the standard deviation of the daily data\n",
    "    daily_std = np.std(daily_data)\n",
    "\n",
    "    return hourly_std_per_day, daily_std\n",
    "\n",
    "# Example usage:\n",
    "########################TODO######hourly_data = np.random.rand(24 * 10)\n",
    "hourly_std_per_day, daily_std = compare_std_hourly_to_daily(hourly_data)\n",
    "\n",
    "print(\"Standard Deviation of Hourly Mean for Each Day:\")\n",
    "print(hourly_std_per_day)\n",
    "\n",
    "print(\"\\nStandard Deviation of Daily Data:\")\n",
    "print(daily_std)\n"
   ]
  },
  {
   "cell_type": "markdown",
   "id": "40f6cf82-912b-439f-a459-9ec1f491abf0",
   "metadata": {
    "tags": []
   },
   "source": [
    "# Plots"
   ]
  },
  {
   "cell_type": "markdown",
   "id": "f6096295-1b76-41b0-9b53-17271110348e",
   "metadata": {},
   "source": [
    "### Bland-Altman Plot"
   ]
  },
  {
   "cell_type": "code",
   "execution_count": 21,
   "id": "e8d4d7ff",
   "metadata": {},
   "outputs": [
    {
     "name": "stdout",
     "output_type": "stream",
     "text": [
      "Exluded:\tevent: Maria\t\tLocation: Fajardo, PR\n",
      "Exluded:\tevent: Ketsana\t\tLocation: Manila, Philippines\n"
     ]
    }
   ],
   "source": [
    "for event in ar_allLoc_allEvent_tg.keys():\n",
    "        for locat in ar_allLoc_allEvent_tg[event].keys():\n",
    "            try: plot_bland_altman(event, locat, ar_allLoc_allEvent_tg, ar_allLoc_allEvent_sat, save_fig=True, plot_fig=False)\n",
    "            except: print(f\"Exluded:\\tevent: {event}\\t\\tLocation: {locat}\")"
   ]
  },
  {
   "cell_type": "code",
   "execution_count": 22,
   "id": "96312235",
   "metadata": {},
   "outputs": [
    {
     "data": {
      "image/png": "[encoded data removed]",
      "text/plain": [
       "<Figure size 640x480 with 1 Axes>"
      ]
     },
     "metadata": {},
     "output_type": "display_data"
    }
   ],
   "source": [
    "# look into 1 plot\n",
    "event = \"Ketsana\"\n",
    "locat = 'Malakal, Palau'\n",
    "plot_bland_altman(event, locat, ar_allLoc_allEvent_tg, ar_allLoc_allEvent_sat, save_fig=False, plot_fig=True)"
   ]
  },
  {
   "cell_type": "markdown",
   "id": "cbe5ae10-437b-4467-bd0f-2d635fdbc33d",
   "metadata": {},
   "source": [
    "**Geographical area of interrest & TGs**"
   ]
  },
  {
   "cell_type": "code",
   "execution_count": 43,
   "id": "6905eafd",
   "metadata": {},
   "outputs": [],
   "source": [
    "def plot_area(ds, lat_min, lat_max, lon_min, lon_max, tg, tg_precise=None):\n",
    "    # Slice the dataset based on latitude and longitude\n",
    "    print(slice(lat_min, lat_max))\n",
    "    ds_zoom = ds.sel(latitude=slice(lat_min, lat_max), longitude=slice(lon_min, lon_max))\n",
    "\n",
    "    # Set up the plot\n",
    "    fig = plt.figure(figsize=(10, 8))\n",
    "    ax = plt.axes(projection=ccrs.PlateCarree())\n",
    "\n",
    "    # Select a specific time slice, for example, the first time step\n",
    "    time_slice = 0\n",
    "    ds_time_slice = ds_zoom.isel(time=time_slice)\n",
    "\n",
    "    # Plot the data using pcolormesh\n",
    "    ds_time_slice[\"SSH\"].plot.pcolormesh(ax=ax, x=\"longitude\", y=\"latitude\", transform=ccrs.PlateCarree())\n",
    "\n",
    "    # Add triangle markers for the provided locations in tg\n",
    "    for (idx, (location, coords)), color in zip(enumerate(tg.items()), colors):\n",
    "        lat, lon = coords[\"lat\"], coords[\"lon\"]\n",
    "        ax.plot(lon, lat, marker=\"^\", color=color, markersize=8, transform=ccrs.PlateCarree(), label=location)\n",
    "\n",
    "    if tg_precise is not None:\n",
    "        for (idx, (location, coords)), color in zip(enumerate(tg_precise.items()), colors):\n",
    "                lat, lon = coords[\"lat\"], coords[\"lon\"]\n",
    "                ax.plot(lon, lat, marker=\"*\", color=color, markersize=8, transform=ccrs.PlateCarree(), label=location)\n",
    "\n",
    "    # Add legend\n",
    "    ax.legend()\n",
    "\n",
    "    # Add map features\n",
    "    ax.coastlines()\n",
    "    ax.gridlines(draw_labels=True)\n",
    "\n",
    "    # Add a title\n",
    "    plt.title(\"Sea Surface Height\")\n",
    "#    plt.legend(bbox_to_anchor=(1.05, 1.0), loc='upper left')\n",
    "\n",
    "    # Show the plot\n",
    "    plt.show()\n"
   ]
  },
  {
   "cell_type": "code",
   "execution_count": 42,
   "id": "c9b400c6",
   "metadata": {},
   "outputs": [],
   "source": [
    "# Promote the 'lat' data variable to a coordinate\n",
    "ds.coords['latitude'] = ds['lat']\n",
    "\n",
    "# Promote the 'lon' data variable to a coordinate\n",
    "ds.coords['longitude'] = ds['lon']\n"
   ]
  },
  {
   "cell_type": "code",
   "execution_count": 44,
   "id": "ed4e939b",
   "metadata": {},
   "outputs": [
    {
     "data": {
      "text/html": [
       "<div><svg style=\"position: absolute; width: 0; height: 0; overflow: hidden\">\n",
       "<defs>\n",
       "<symbol id=\"icon-database\" viewBox=\"0 0 32 32\">\n",
       "<path d=\"M16 0c-8.837 0-16 2.239-16 5v4c0 2.761 7.163 5 16 5s16-2.239 16-5v-4c0-2.761-7.163-5-16-5z\"></path>\n",
       "<path d=\"M16 17c-8.837 0-16-2.239-16-5v6c0 2.761 7.163 5 16 5s16-2.239 16-5v-6c0 2.761-7.163 5-16 5z\"></path>\n",
       "<path d=\"M16 26c-8.837 0-16-2.239-16-5v6c0 2.761 7.163 5 16 5s16-2.239 16-5v-6c0 2.761-7.163 5-16 5z\"></path>\n",
       "</symbol>\n",
       "<symbol id=\"icon-file-text2\" viewBox=\"0 0 32 32\">\n",
       "<path d=\"M28.681 7.159c-0.694-0.947-1.662-2.053-2.724-3.116s-2.169-2.030-3.116-2.724c-1.612-1.182-2.393-1.319-2.841-1.319h-15.5c-1.378 0-2.5 1.121-2.5 2.5v27c0 1.378 1.122 2.5 2.5 2.5h23c1.378 0 2.5-1.122 2.5-2.5v-19.5c0-0.448-0.137-1.23-1.319-2.841zM24.543 5.457c0.959 0.959 1.712 1.825 2.268 2.543h-4.811v-4.811c0.718 0.556 1.584 1.309 2.543 2.268zM28 29.5c0 0.271-0.229 0.5-0.5 0.5h-23c-0.271 0-0.5-0.229-0.5-0.5v-27c0-0.271 0.229-0.5 0.5-0.5 0 0 15.499-0 15.5 0v7c0 0.552 0.448 1 1 1h7v19.5z\"></path>\n",
       "<path d=\"M23 26h-14c-0.552 0-1-0.448-1-1s0.448-1 1-1h14c0.552 0 1 0.448 1 1s-0.448 1-1 1z\"></path>\n",
       "<path d=\"M23 22h-14c-0.552 0-1-0.448-1-1s0.448-1 1-1h14c0.552 0 1 0.448 1 1s-0.448 1-1 1z\"></path>\n",
       "<path d=\"M23 18h-14c-0.552 0-1-0.448-1-1s0.448-1 1-1h14c0.552 0 1 0.448 1 1s-0.448 1-1 1z\"></path>\n",
       "</symbol>\n",
       "</defs>\n",
       "</svg>\n",
       "<style>/* CSS stylesheet for displaying xarray objects in jupyterlab.\n",
       " *\n",
       " */\n",
       "\n",
       ":root {\n",
       "  --xr-font-color0: var(--jp-content-font-color0, rgba(0, 0, 0, 1));\n",
       "  --xr-font-color2: var(--jp-content-font-color2, rgba(0, 0, 0, 0.54));\n",
       "  --xr-font-color3: var(--jp-content-font-color3, rgba(0, 0, 0, 0.38));\n",
       "  --xr-border-color: var(--jp-border-color2, #e0e0e0);\n",
       "  --xr-disabled-color: var(--jp-layout-color3, #bdbdbd);\n",
       "  --xr-background-color: var(--jp-layout-color0, white);\n",
       "  --xr-background-color-row-even: var(--jp-layout-color1, white);\n",
       "  --xr-background-color-row-odd: var(--jp-layout-color2, #eeeeee);\n",
       "}\n",
       "\n",
       "html[theme=dark],\n",
       "body[data-theme=dark],\n",
       "body.vscode-dark {\n",
       "  --xr-font-color0: rgba(255, 255, 255, 1);\n",
       "  --xr-font-color2: rgba(255, 255, 255, 0.54);\n",
       "  --xr-font-color3: rgba(255, 255, 255, 0.38);\n",
       "  --xr-border-color: #1F1F1F;\n",
       "  --xr-disabled-color: #515151;\n",
       "  --xr-background-color: #111111;\n",
       "  --xr-background-color-row-even: #111111;\n",
       "  --xr-background-color-row-odd: #313131;\n",
       "}\n",
       "\n",
       ".xr-wrap {\n",
       "  display: block !important;\n",
       "  min-width: 300px;\n",
       "  max-width: 700px;\n",
       "}\n",
       "\n",
       ".xr-text-repr-fallback {\n",
       "  /* fallback to plain text repr when CSS is not injected (untrusted notebook) */\n",
       "  display: none;\n",
       "}\n",
       "\n",
       ".xr-header {\n",
       "  padding-top: 6px;\n",
       "  padding-bottom: 6px;\n",
       "  margin-bottom: 4px;\n",
       "  border-bottom: solid 1px var(--xr-border-color);\n",
       "}\n",
       "\n",
       ".xr-header > div,\n",
       ".xr-header > ul {\n",
       "  display: inline;\n",
       "  margin-top: 0;\n",
       "  margin-bottom: 0;\n",
       "}\n",
       "\n",
       ".xr-obj-type,\n",
       ".xr-array-name {\n",
       "  margin-left: 2px;\n",
       "  margin-right: 10px;\n",
       "}\n",
       "\n",
       ".xr-obj-type {\n",
       "  color: var(--xr-font-color2);\n",
       "}\n",
       "\n",
       ".xr-sections {\n",
       "  padding-left: 0 !important;\n",
       "  display: grid;\n",
       "  grid-template-columns: 150px auto auto 1fr 20px 20px;\n",
       "}\n",
       "\n",
       ".xr-section-item {\n",
       "  display: contents;\n",
       "}\n",
       "\n",
       ".xr-section-item input {\n",
       "  display: none;\n",
       "}\n",
       "\n",
       ".xr-section-item input + label {\n",
       "  color: var(--xr-disabled-color);\n",
       "}\n",
       "\n",
       ".xr-section-item input:enabled + label {\n",
       "  cursor: pointer;\n",
       "  color: var(--xr-font-color2);\n",
       "}\n",
       "\n",
       ".xr-section-item input:enabled + label:hover {\n",
       "  color: var(--xr-font-color0);\n",
       "}\n",
       "\n",
       ".xr-section-summary {\n",
       "  grid-column: 1;\n",
       "  color: var(--xr-font-color2);\n",
       "  font-weight: 500;\n",
       "}\n",
       "\n",
       ".xr-section-summary > span {\n",
       "  display: inline-block;\n",
       "  padding-left: 0.5em;\n",
       "}\n",
       "\n",
       ".xr-section-summary-in:disabled + label {\n",
       "  color: var(--xr-font-color2);\n",
       "}\n",
       "\n",
       ".xr-section-summary-in + label:before {\n",
       "  display: inline-block;\n",
       "  content: '►';\n",
       "  font-size: 11px;\n",
       "  width: 15px;\n",
       "  text-align: center;\n",
       "}\n",
       "\n",
       ".xr-section-summary-in:disabled + label:before {\n",
       "  color: var(--xr-disabled-color);\n",
       "}\n",
       "\n",
       ".xr-section-summary-in:checked + label:before {\n",
       "  content: '▼';\n",
       "}\n",
       "\n",
       ".xr-section-summary-in:checked + label > span {\n",
       "  display: none;\n",
       "}\n",
       "\n",
       ".xr-section-summary,\n",
       ".xr-section-inline-details {\n",
       "  padding-top: 4px;\n",
       "  padding-bottom: 4px;\n",
       "}\n",
       "\n",
       ".xr-section-inline-details {\n",
       "  grid-column: 2 / -1;\n",
       "}\n",
       "\n",
       ".xr-section-details {\n",
       "  display: none;\n",
       "  grid-column: 1 / -1;\n",
       "  margin-bottom: 5px;\n",
       "}\n",
       "\n",
       ".xr-section-summary-in:checked ~ .xr-section-details {\n",
       "  display: contents;\n",
       "}\n",
       "\n",
       ".xr-array-wrap {\n",
       "  grid-column: 1 / -1;\n",
       "  display: grid;\n",
       "  grid-template-columns: 20px auto;\n",
       "}\n",
       "\n",
       ".xr-array-wrap > label {\n",
       "  grid-column: 1;\n",
       "  vertical-align: top;\n",
       "}\n",
       "\n",
       ".xr-preview {\n",
       "  color: var(--xr-font-color3);\n",
       "}\n",
       "\n",
       ".xr-array-preview,\n",
       ".xr-array-data {\n",
       "  padding: 0 5px !important;\n",
       "  grid-column: 2;\n",
       "}\n",
       "\n",
       ".xr-array-data,\n",
       ".xr-array-in:checked ~ .xr-array-preview {\n",
       "  display: none;\n",
       "}\n",
       "\n",
       ".xr-array-in:checked ~ .xr-array-data,\n",
       ".xr-array-preview {\n",
       "  display: inline-block;\n",
       "}\n",
       "\n",
       ".xr-dim-list {\n",
       "  display: inline-block !important;\n",
       "  list-style: none;\n",
       "  padding: 0 !important;\n",
       "  margin: 0;\n",
       "}\n",
       "\n",
       ".xr-dim-list li {\n",
       "  display: inline-block;\n",
       "  padding: 0;\n",
       "  margin: 0;\n",
       "}\n",
       "\n",
       ".xr-dim-list:before {\n",
       "  content: '(';\n",
       "}\n",
       "\n",
       ".xr-dim-list:after {\n",
       "  content: ')';\n",
       "}\n",
       "\n",
       ".xr-dim-list li:not(:last-child):after {\n",
       "  content: ',';\n",
       "  padding-right: 5px;\n",
       "}\n",
       "\n",
       ".xr-has-index {\n",
       "  font-weight: bold;\n",
       "}\n",
       "\n",
       ".xr-var-list,\n",
       ".xr-var-item {\n",
       "  display: contents;\n",
       "}\n",
       "\n",
       ".xr-var-item > div,\n",
       ".xr-var-item label,\n",
       ".xr-var-item > .xr-var-name span {\n",
       "  background-color: var(--xr-background-color-row-even);\n",
       "  margin-bottom: 0;\n",
       "}\n",
       "\n",
       ".xr-var-item > .xr-var-name:hover span {\n",
       "  padding-right: 5px;\n",
       "}\n",
       "\n",
       ".xr-var-list > li:nth-child(odd) > div,\n",
       ".xr-var-list > li:nth-child(odd) > label,\n",
       ".xr-var-list > li:nth-child(odd) > .xr-var-name span {\n",
       "  background-color: var(--xr-background-color-row-odd);\n",
       "}\n",
       "\n",
       ".xr-var-name {\n",
       "  grid-column: 1;\n",
       "}\n",
       "\n",
       ".xr-var-dims {\n",
       "  grid-column: 2;\n",
       "}\n",
       "\n",
       ".xr-var-dtype {\n",
       "  grid-column: 3;\n",
       "  text-align: right;\n",
       "  color: var(--xr-font-color2);\n",
       "}\n",
       "\n",
       ".xr-var-preview {\n",
       "  grid-column: 4;\n",
       "}\n",
       "\n",
       ".xr-index-preview {\n",
       "  grid-column: 2 / 5;\n",
       "  color: var(--xr-font-color2);\n",
       "}\n",
       "\n",
       ".xr-var-name,\n",
       ".xr-var-dims,\n",
       ".xr-var-dtype,\n",
       ".xr-preview,\n",
       ".xr-attrs dt {\n",
       "  white-space: nowrap;\n",
       "  overflow: hidden;\n",
       "  text-overflow: ellipsis;\n",
       "  padding-right: 10px;\n",
       "}\n",
       "\n",
       ".xr-var-name:hover,\n",
       ".xr-var-dims:hover,\n",
       ".xr-var-dtype:hover,\n",
       ".xr-attrs dt:hover {\n",
       "  overflow: visible;\n",
       "  width: auto;\n",
       "  z-index: 1;\n",
       "}\n",
       "\n",
       ".xr-var-attrs,\n",
       ".xr-var-data,\n",
       ".xr-index-data {\n",
       "  display: none;\n",
       "  background-color: var(--xr-background-color) !important;\n",
       "  padding-bottom: 5px !important;\n",
       "}\n",
       "\n",
       ".xr-var-attrs-in:checked ~ .xr-var-attrs,\n",
       ".xr-var-data-in:checked ~ .xr-var-data,\n",
       ".xr-index-data-in:checked ~ .xr-index-data {\n",
       "  display: block;\n",
       "}\n",
       "\n",
       ".xr-var-data > table {\n",
       "  float: right;\n",
       "}\n",
       "\n",
       ".xr-var-name span,\n",
       ".xr-var-data,\n",
       ".xr-index-name div,\n",
       ".xr-index-data,\n",
       ".xr-attrs {\n",
       "  padding-left: 25px !important;\n",
       "}\n",
       "\n",
       ".xr-attrs,\n",
       ".xr-var-attrs,\n",
       ".xr-var-data,\n",
       ".xr-index-data {\n",
       "  grid-column: 1 / -1;\n",
       "}\n",
       "\n",
       "dl.xr-attrs {\n",
       "  padding: 0;\n",
       "  margin: 0;\n",
       "  display: grid;\n",
       "  grid-template-columns: 125px auto;\n",
       "}\n",
       "\n",
       ".xr-attrs dt,\n",
       ".xr-attrs dd {\n",
       "  padding: 0;\n",
       "  margin: 0;\n",
       "  float: left;\n",
       "  padding-right: 10px;\n",
       "  width: auto;\n",
       "}\n",
       "\n",
       ".xr-attrs dt {\n",
       "  font-weight: normal;\n",
       "  grid-column: 1;\n",
       "}\n",
       "\n",
       ".xr-attrs dt:hover span {\n",
       "  display: inline-block;\n",
       "  background: var(--xr-background-color);\n",
       "  padding-right: 10px;\n",
       "}\n",
       "\n",
       ".xr-attrs dd {\n",
       "  grid-column: 2;\n",
       "  white-space: pre-wrap;\n",
       "  word-break: break-all;\n",
       "}\n",
       "\n",
       ".xr-icon-database,\n",
       ".xr-icon-file-text2,\n",
       ".xr-no-icon {\n",
       "  display: inline-block;\n",
       "  vertical-align: middle;\n",
       "  width: 1em;\n",
       "  height: 1.5em !important;\n",
       "  stroke-width: 0;\n",
       "  stroke: currentColor;\n",
       "  fill: currentColor;\n",
       "}\n",
       "</style><pre class='xr-text-repr-fallback'>&lt;xarray.Dataset&gt;\n",
       "Dimensions:               (record_id: 1, time: 98179)\n",
       "Coordinates:\n",
       "  * time                  (time) datetime64[ns] 2007-10-19T10:00:00.028800 .....\n",
       "  * record_id             (record_id) int16 3812\n",
       "    latitude              (record_id) float32 13.77\n",
       "    longitude             (record_id) float32 109.3\n",
       "Data variables: (12/13)\n",
       "    sea_level             (record_id, time) float32 ...\n",
       "    lat                   (record_id) float32 13.77\n",
       "    lon                   (record_id) float32 109.3\n",
       "    station_name          (record_id) |S8 b&#x27;Qui Nhon&#x27;\n",
       "    station_country       (record_id) |S8 b&#x27;Viet Nam&#x27;\n",
       "    station_country_code  (record_id) float32 704.0\n",
       "    ...                    ...\n",
       "    version               (record_id) |S1 b&#x27;B&#x27;\n",
       "    gloss_id              (record_id) float32 75.0\n",
       "    ssc_id                (record_id) |S4 b&#x27;quin&#x27;\n",
       "    decimation_method     (record_id) int16 1\n",
       "    reference_code        (record_id) |S1 b&#x27;R&#x27;\n",
       "    reference_offset      (record_id) int16 0\n",
       "Attributes:\n",
       "    title:                  JASL/UHSLC Research Quality Tide Gauge Data (hourly)\n",
       "    ncei_template_version:  NCEI_NetCDF_TimeSeries_Orthogonal_Template_v2.0\n",
       "    featureType:            timeSeries\n",
       "    Conventions:            CF-1.6, ACDD-1.3\n",
       "    date_created:           2023-04-04T01:53:10Z\n",
       "    publisher_name:         University of Hawaii Sea Level Center (UHSLC)\n",
       "    publisher_email:        philiprt@hawaii.edu, markm@soest.hawaii.edu\n",
       "    publisher_url:          http://uhslc.soest.hawaii.edu\n",
       "    summary:                The Joint Archive for Sea Level (JASL) Research Q...\n",
       "    processing_level:       The JASL receives hourly data from regional and n...\n",
       "    acknowledgment:         The JASL/UHSLC Research Quality Data Set is suppo...</pre><div class='xr-wrap' style='display:none'><div class='xr-header'><div class='xr-obj-type'>xarray.Dataset</div></div><ul class='xr-sections'><li class='xr-section-item'><input id='section-a8fe3f9d-5d2d-4842-bfbb-2733b14cb293' class='xr-section-summary-in' type='checkbox' disabled ><label for='section-a8fe3f9d-5d2d-4842-bfbb-2733b14cb293' class='xr-section-summary'  title='Expand/collapse section'>Dimensions:</label><div class='xr-section-inline-details'><ul class='xr-dim-list'><li><span class='xr-has-index'>record_id</span>: 1</li><li><span class='xr-has-index'>time</span>: 98179</li></ul></div><div class='xr-section-details'></div></li><li class='xr-section-item'><input id='section-8073fea4-4f37-427f-a1b0-0a114832deb5' class='xr-section-summary-in' type='checkbox'  checked><label for='section-8073fea4-4f37-427f-a1b0-0a114832deb5' class='xr-section-summary' >Coordinates: <span>(4)</span></label><div class='xr-section-inline-details'></div><div class='xr-section-details'><ul class='xr-var-list'><li class='xr-var-item'><div class='xr-var-name'><span class='xr-has-index'>time</span></div><div class='xr-var-dims'>(time)</div><div class='xr-var-dtype'>datetime64[ns]</div><div class='xr-var-preview xr-preview'>2007-10-19T10:00:00.028800 ... 2...</div><input id='attrs-4819e9a1-9d35-482f-9a14-761dc3c33a64' class='xr-var-attrs-in' type='checkbox' ><label for='attrs-4819e9a1-9d35-482f-9a14-761dc3c33a64' title='Show/Hide attributes'><svg class='icon xr-icon-file-text2'><use xlink:href='#icon-file-text2'></use></svg></label><input id='data-afd821ca-e0dc-4f0f-af37-acee57b9f252' class='xr-var-data-in' type='checkbox'><label for='data-afd821ca-e0dc-4f0f-af37-acee57b9f252' title='Show/Hide data repr'><svg class='icon xr-icon-database'><use xlink:href='#icon-database'></use></svg></label><div class='xr-var-attrs'><dl class='xr-attrs'><dt><span>long_name :</span></dt><dd>time</dd><dt><span>axis :</span></dt><dd>T</dd></dl></div><div class='xr-var-data'><pre>array([&#x27;2007-10-19T10:00:00.028800000&#x27;, &#x27;2007-10-19T10:59:59.971200000&#x27;,\n",
       "       &#x27;2007-10-19T12:00:00.000000000&#x27;, ..., &#x27;2018-12-31T01:59:59.971200000&#x27;,\n",
       "       &#x27;2018-12-31T03:00:00.000000000&#x27;, &#x27;2018-12-31T04:00:00.028800000&#x27;],\n",
       "      dtype=&#x27;datetime64[ns]&#x27;)</pre></div></li><li class='xr-var-item'><div class='xr-var-name'><span class='xr-has-index'>record_id</span></div><div class='xr-var-dims'>(record_id)</div><div class='xr-var-dtype'>int16</div><div class='xr-var-preview xr-preview'>3812</div><input id='attrs-2ae3e957-c5ac-4828-a2da-e6241aa47164' class='xr-var-attrs-in' type='checkbox' ><label for='attrs-2ae3e957-c5ac-4828-a2da-e6241aa47164' title='Show/Hide attributes'><svg class='icon xr-icon-file-text2'><use xlink:href='#icon-file-text2'></use></svg></label><input id='data-422a62eb-ebe2-4fef-a722-e2bbd8e569f6' class='xr-var-data-in' type='checkbox'><label for='data-422a62eb-ebe2-4fef-a722-e2bbd8e569f6' title='Show/Hide data repr'><svg class='icon xr-icon-database'><use xlink:href='#icon-database'></use></svg></label><div class='xr-var-attrs'><dl class='xr-attrs'><dt><span>long_name :</span></dt><dd>unique identifier for each record (i.e., station and version) in the database</dd></dl></div><div class='xr-var-data'><pre>array([3812], dtype=int16)</pre></div></li><li class='xr-var-item'><div class='xr-var-name'><span>latitude</span></div><div class='xr-var-dims'>(record_id)</div><div class='xr-var-dtype'>float32</div><div class='xr-var-preview xr-preview'>13.77</div><input id='attrs-66c18be1-5c68-485d-a799-ba472955d692' class='xr-var-attrs-in' type='checkbox' ><label for='attrs-66c18be1-5c68-485d-a799-ba472955d692' title='Show/Hide attributes'><svg class='icon xr-icon-file-text2'><use xlink:href='#icon-file-text2'></use></svg></label><input id='data-c0d5b013-e98f-4e0f-ae50-066273b8fc11' class='xr-var-data-in' type='checkbox'><label for='data-c0d5b013-e98f-4e0f-ae50-066273b8fc11' title='Show/Hide data repr'><svg class='icon xr-icon-database'><use xlink:href='#icon-database'></use></svg></label><div class='xr-var-attrs'><dl class='xr-attrs'><dt><span>standard_name :</span></dt><dd>latitude</dd><dt><span>units :</span></dt><dd>degrees_north</dd><dt><span>axis :</span></dt><dd>Y</dd><dt><span>valid_min :</span></dt><dd>-90</dd><dt><span>valid_max :</span></dt><dd>90</dd></dl></div><div class='xr-var-data'><pre>array([13.775], dtype=float32)</pre></div></li><li class='xr-var-item'><div class='xr-var-name'><span>longitude</span></div><div class='xr-var-dims'>(record_id)</div><div class='xr-var-dtype'>float32</div><div class='xr-var-preview xr-preview'>109.3</div><input id='attrs-7a78ae2d-ef6c-4e6e-a12d-9df85cce6a4f' class='xr-var-attrs-in' type='checkbox' ><label for='attrs-7a78ae2d-ef6c-4e6e-a12d-9df85cce6a4f' title='Show/Hide attributes'><svg class='icon xr-icon-file-text2'><use xlink:href='#icon-file-text2'></use></svg></label><input id='data-28a6282e-ee01-42f0-96f4-e96a1b24fc73' class='xr-var-data-in' type='checkbox'><label for='data-28a6282e-ee01-42f0-96f4-e96a1b24fc73' title='Show/Hide data repr'><svg class='icon xr-icon-database'><use xlink:href='#icon-database'></use></svg></label><div class='xr-var-attrs'><dl class='xr-attrs'><dt><span>standard_name :</span></dt><dd>longitude</dd><dt><span>units :</span></dt><dd>degrees_east</dd><dt><span>axis :</span></dt><dd>X</dd><dt><span>valid_min :</span></dt><dd>0</dd><dt><span>valid_max :</span></dt><dd>360</dd></dl></div><div class='xr-var-data'><pre>array([109.255], dtype=float32)</pre></div></li></ul></div></li><li class='xr-section-item'><input id='section-870af075-32ac-44bf-a7ae-dbb32b2f7029' class='xr-section-summary-in' type='checkbox'  checked><label for='section-870af075-32ac-44bf-a7ae-dbb32b2f7029' class='xr-section-summary' >Data variables: <span>(13)</span></label><div class='xr-section-inline-details'></div><div class='xr-section-details'><ul class='xr-var-list'><li class='xr-var-item'><div class='xr-var-name'><span>sea_level</span></div><div class='xr-var-dims'>(record_id, time)</div><div class='xr-var-dtype'>float32</div><div class='xr-var-preview xr-preview'>...</div><input id='attrs-1a990770-6c7c-4d9a-9ccc-e73dbf21b171' class='xr-var-attrs-in' type='checkbox' ><label for='attrs-1a990770-6c7c-4d9a-9ccc-e73dbf21b171' title='Show/Hide attributes'><svg class='icon xr-icon-file-text2'><use xlink:href='#icon-file-text2'></use></svg></label><input id='data-1e5d8d63-e2d0-49c2-8bb2-07691543a9f4' class='xr-var-data-in' type='checkbox'><label for='data-1e5d8d63-e2d0-49c2-8bb2-07691543a9f4' title='Show/Hide data repr'><svg class='icon xr-icon-database'><use xlink:href='#icon-database'></use></svg></label><div class='xr-var-attrs'><dl class='xr-attrs'><dt><span>long_name :</span></dt><dd>relative sea level</dd><dt><span>units :</span></dt><dd>millimeters</dd><dt><span>source :</span></dt><dd>in situ tide gauge water level observations</dd><dt><span>platform :</span></dt><dd>station_name, station_country, station_country_code, uhslc_id, gloss_id, ssc_id</dd></dl></div><div class='xr-var-data'><pre>[98179 values with dtype=float32]</pre></div></li><li class='xr-var-item'><div class='xr-var-name'><span>lat</span></div><div class='xr-var-dims'>(record_id)</div><div class='xr-var-dtype'>float32</div><div class='xr-var-preview xr-preview'>13.77</div><input id='attrs-9b6f8c9e-7ec6-4619-a33a-2b482fd65818' class='xr-var-attrs-in' type='checkbox' ><label for='attrs-9b6f8c9e-7ec6-4619-a33a-2b482fd65818' title='Show/Hide attributes'><svg class='icon xr-icon-file-text2'><use xlink:href='#icon-file-text2'></use></svg></label><input id='data-0e2e16f2-769a-4d13-af41-298e98068846' class='xr-var-data-in' type='checkbox'><label for='data-0e2e16f2-769a-4d13-af41-298e98068846' title='Show/Hide data repr'><svg class='icon xr-icon-database'><use xlink:href='#icon-database'></use></svg></label><div class='xr-var-attrs'><dl class='xr-attrs'><dt><span>standard_name :</span></dt><dd>latitude</dd><dt><span>units :</span></dt><dd>degrees_north</dd><dt><span>axis :</span></dt><dd>Y</dd><dt><span>valid_min :</span></dt><dd>-90</dd><dt><span>valid_max :</span></dt><dd>90</dd></dl></div><div class='xr-var-data'><pre>array([13.775], dtype=float32)</pre></div></li><li class='xr-var-item'><div class='xr-var-name'><span>lon</span></div><div class='xr-var-dims'>(record_id)</div><div class='xr-var-dtype'>float32</div><div class='xr-var-preview xr-preview'>109.3</div><input id='attrs-823a66ee-9b9d-477c-ac4a-041e9c261aa5' class='xr-var-attrs-in' type='checkbox' ><label for='attrs-823a66ee-9b9d-477c-ac4a-041e9c261aa5' title='Show/Hide attributes'><svg class='icon xr-icon-file-text2'><use xlink:href='#icon-file-text2'></use></svg></label><input id='data-73d88e4f-020f-458a-aa57-fe44fc1bd67c' class='xr-var-data-in' type='checkbox'><label for='data-73d88e4f-020f-458a-aa57-fe44fc1bd67c' title='Show/Hide data repr'><svg class='icon xr-icon-database'><use xlink:href='#icon-database'></use></svg></label><div class='xr-var-attrs'><dl class='xr-attrs'><dt><span>standard_name :</span></dt><dd>longitude</dd><dt><span>units :</span></dt><dd>degrees_east</dd><dt><span>axis :</span></dt><dd>X</dd><dt><span>valid_min :</span></dt><dd>0</dd><dt><span>valid_max :</span></dt><dd>360</dd></dl></div><div class='xr-var-data'><pre>array([109.255], dtype=float32)</pre></div></li><li class='xr-var-item'><div class='xr-var-name'><span>station_name</span></div><div class='xr-var-dims'>(record_id)</div><div class='xr-var-dtype'>|S8</div><div class='xr-var-preview xr-preview'>b&#x27;Qui Nhon&#x27;</div><input id='attrs-e1a6ed2b-d645-4c0e-b9f1-bdf010e0c8f8' class='xr-var-attrs-in' type='checkbox' ><label for='attrs-e1a6ed2b-d645-4c0e-b9f1-bdf010e0c8f8' title='Show/Hide attributes'><svg class='icon xr-icon-file-text2'><use xlink:href='#icon-file-text2'></use></svg></label><input id='data-70ac865b-a6a1-4416-bdb0-12b04382c621' class='xr-var-data-in' type='checkbox'><label for='data-70ac865b-a6a1-4416-bdb0-12b04382c621' title='Show/Hide data repr'><svg class='icon xr-icon-database'><use xlink:href='#icon-database'></use></svg></label><div class='xr-var-attrs'><dl class='xr-attrs'><dt><span>long_name :</span></dt><dd>station name</dd></dl></div><div class='xr-var-data'><pre>array([b&#x27;Qui Nhon&#x27;], dtype=&#x27;|S8&#x27;)</pre></div></li><li class='xr-var-item'><div class='xr-var-name'><span>station_country</span></div><div class='xr-var-dims'>(record_id)</div><div class='xr-var-dtype'>|S8</div><div class='xr-var-preview xr-preview'>b&#x27;Viet Nam&#x27;</div><input id='attrs-2fbc2a23-9f4b-4a06-9805-d0f989c26f21' class='xr-var-attrs-in' type='checkbox' ><label for='attrs-2fbc2a23-9f4b-4a06-9805-d0f989c26f21' title='Show/Hide attributes'><svg class='icon xr-icon-file-text2'><use xlink:href='#icon-file-text2'></use></svg></label><input id='data-032d929e-3b10-4cec-a203-def8997f6032' class='xr-var-data-in' type='checkbox'><label for='data-032d929e-3b10-4cec-a203-def8997f6032' title='Show/Hide data repr'><svg class='icon xr-icon-database'><use xlink:href='#icon-database'></use></svg></label><div class='xr-var-attrs'><dl class='xr-attrs'><dt><span>long_name :</span></dt><dd>station country (ISO 3166-1)</dd></dl></div><div class='xr-var-data'><pre>array([b&#x27;Viet Nam&#x27;], dtype=&#x27;|S8&#x27;)</pre></div></li><li class='xr-var-item'><div class='xr-var-name'><span>station_country_code</span></div><div class='xr-var-dims'>(record_id)</div><div class='xr-var-dtype'>float32</div><div class='xr-var-preview xr-preview'>704.0</div><input id='attrs-946c4dc0-0115-4d75-84c8-ae02a03d19d2' class='xr-var-attrs-in' type='checkbox' ><label for='attrs-946c4dc0-0115-4d75-84c8-ae02a03d19d2' title='Show/Hide attributes'><svg class='icon xr-icon-file-text2'><use xlink:href='#icon-file-text2'></use></svg></label><input id='data-786d2035-c84c-4376-bbfd-487ba895aac8' class='xr-var-data-in' type='checkbox'><label for='data-786d2035-c84c-4376-bbfd-487ba895aac8' title='Show/Hide data repr'><svg class='icon xr-icon-database'><use xlink:href='#icon-database'></use></svg></label><div class='xr-var-attrs'><dl class='xr-attrs'><dt><span>long_name :</span></dt><dd>station country code (ISO 3166-1 numeric)</dd><dt><span>comment :</span></dt><dd>These are 3-digit country codes (e.g., 003) stored as integers.</dd></dl></div><div class='xr-var-data'><pre>array([704.], dtype=float32)</pre></div></li><li class='xr-var-item'><div class='xr-var-name'><span>uhslc_id</span></div><div class='xr-var-dims'>(record_id)</div><div class='xr-var-dtype'>int16</div><div class='xr-var-preview xr-preview'>381</div><input id='attrs-27b6450b-17b8-44f5-9d53-b9e7d7f23d25' class='xr-var-attrs-in' type='checkbox' ><label for='attrs-27b6450b-17b8-44f5-9d53-b9e7d7f23d25' title='Show/Hide attributes'><svg class='icon xr-icon-file-text2'><use xlink:href='#icon-file-text2'></use></svg></label><input id='data-675ddabf-2504-4f7f-b8cb-9434dc506967' class='xr-var-data-in' type='checkbox'><label for='data-675ddabf-2504-4f7f-b8cb-9434dc506967' title='Show/Hide data repr'><svg class='icon xr-icon-database'><use xlink:href='#icon-database'></use></svg></label><div class='xr-var-attrs'><dl class='xr-attrs'><dt><span>long_name :</span></dt><dd>unique station ID number used by the University of Hawaii Sea Level Center (UHSLC)</dd></dl></div><div class='xr-var-data'><pre>array([381], dtype=int16)</pre></div></li><li class='xr-var-item'><div class='xr-var-name'><span>version</span></div><div class='xr-var-dims'>(record_id)</div><div class='xr-var-dtype'>|S1</div><div class='xr-var-preview xr-preview'>b&#x27;B&#x27;</div><input id='attrs-6cd02da4-78db-44be-9550-02d6f850e0cc' class='xr-var-attrs-in' type='checkbox' ><label for='attrs-6cd02da4-78db-44be-9550-02d6f850e0cc' title='Show/Hide attributes'><svg class='icon xr-icon-file-text2'><use xlink:href='#icon-file-text2'></use></svg></label><input id='data-20e47906-86a5-4d92-9600-805a090e72bb' class='xr-var-data-in' type='checkbox'><label for='data-20e47906-86a5-4d92-9600-805a090e72bb' title='Show/Hide data repr'><svg class='icon xr-icon-database'><use xlink:href='#icon-database'></use></svg></label><div class='xr-var-attrs'><dl class='xr-attrs'><dt><span>long_name :</span></dt><dd>station version</dd><dt><span>comment :</span></dt><dd>The station version is a letter from A to Z differentiating segments of a station record that cannot be linked to a common benchmark.</dd></dl></div><div class='xr-var-data'><pre>array([b&#x27;B&#x27;], dtype=&#x27;|S1&#x27;)</pre></div></li><li class='xr-var-item'><div class='xr-var-name'><span>gloss_id</span></div><div class='xr-var-dims'>(record_id)</div><div class='xr-var-dtype'>float32</div><div class='xr-var-preview xr-preview'>75.0</div><input id='attrs-c08c332f-5da4-4d6c-bc0a-f05226aed829' class='xr-var-attrs-in' type='checkbox' ><label for='attrs-c08c332f-5da4-4d6c-bc0a-f05226aed829' title='Show/Hide attributes'><svg class='icon xr-icon-file-text2'><use xlink:href='#icon-file-text2'></use></svg></label><input id='data-663761b6-0c2d-4b91-ba8c-7eb94e78683c' class='xr-var-data-in' type='checkbox'><label for='data-663761b6-0c2d-4b91-ba8c-7eb94e78683c' title='Show/Hide data repr'><svg class='icon xr-icon-database'><use xlink:href='#icon-database'></use></svg></label><div class='xr-var-attrs'><dl class='xr-attrs'><dt><span>long_name :</span></dt><dd>unique station ID number used by the WMO/IOC Global Sea Level Observing System (GLOSS)</dd></dl></div><div class='xr-var-data'><pre>array([75.], dtype=float32)</pre></div></li><li class='xr-var-item'><div class='xr-var-name'><span>ssc_id</span></div><div class='xr-var-dims'>(record_id)</div><div class='xr-var-dtype'>|S4</div><div class='xr-var-preview xr-preview'>b&#x27;quin&#x27;</div><input id='attrs-8faf7bb7-03fb-4364-946b-23cbb26ba326' class='xr-var-attrs-in' type='checkbox' ><label for='attrs-8faf7bb7-03fb-4364-946b-23cbb26ba326' title='Show/Hide attributes'><svg class='icon xr-icon-file-text2'><use xlink:href='#icon-file-text2'></use></svg></label><input id='data-1f6a95c2-5bc3-47bf-8499-a739dea3c427' class='xr-var-data-in' type='checkbox'><label for='data-1f6a95c2-5bc3-47bf-8499-a739dea3c427' title='Show/Hide data repr'><svg class='icon xr-icon-database'><use xlink:href='#icon-database'></use></svg></label><div class='xr-var-attrs'><dl class='xr-attrs'><dt><span>long_name :</span></dt><dd>unique station ID code in the Sealevel Station Catalog (SSC) produced by the WMO/IOC Sea Level Monitoring Facility (VLIZ)</dd><dt><span>comment :</span></dt><dd>Note that SSC IDs vary in length. The IDs are padded with space characters to produce the retangular character matrix provided here.</dd></dl></div><div class='xr-var-data'><pre>array([b&#x27;quin&#x27;], dtype=&#x27;|S4&#x27;)</pre></div></li><li class='xr-var-item'><div class='xr-var-name'><span>decimation_method</span></div><div class='xr-var-dims'>(record_id)</div><div class='xr-var-dtype'>int16</div><div class='xr-var-preview xr-preview'>1</div><input id='attrs-4f70ff05-b09e-4ca3-938e-d6eb57f06437' class='xr-var-attrs-in' type='checkbox' ><label for='attrs-4f70ff05-b09e-4ca3-938e-d6eb57f06437' title='Show/Hide attributes'><svg class='icon xr-icon-file-text2'><use xlink:href='#icon-file-text2'></use></svg></label><input id='data-19f8fd80-5e62-47a2-b413-5584de1daab8' class='xr-var-data-in' type='checkbox'><label for='data-19f8fd80-5e62-47a2-b413-5584de1daab8' title='Show/Hide data repr'><svg class='icon xr-icon-database'><use xlink:href='#icon-database'></use></svg></label><div class='xr-var-attrs'><dl class='xr-attrs'><dt><span>long_name :</span></dt><dd>decimation method</dd><dt><span>flag_values :</span></dt><dd>1, 2, 3, 4</dd><dt><span>flag_meanings :</span></dt><dd>filtered, average, spot readings, other</dd></dl></div><div class='xr-var-data'><pre>array([1], dtype=int16)</pre></div></li><li class='xr-var-item'><div class='xr-var-name'><span>reference_code</span></div><div class='xr-var-dims'>(record_id)</div><div class='xr-var-dtype'>|S1</div><div class='xr-var-preview xr-preview'>b&#x27;R&#x27;</div><input id='attrs-3f10e8f4-9e27-4dfb-a33b-ae552b09e697' class='xr-var-attrs-in' type='checkbox' ><label for='attrs-3f10e8f4-9e27-4dfb-a33b-ae552b09e697' title='Show/Hide attributes'><svg class='icon xr-icon-file-text2'><use xlink:href='#icon-file-text2'></use></svg></label><input id='data-bf3656f8-4841-4e33-b86a-c3dbd3fbd947' class='xr-var-data-in' type='checkbox'><label for='data-bf3656f8-4841-4e33-b86a-c3dbd3fbd947' title='Show/Hide data repr'><svg class='icon xr-icon-database'><use xlink:href='#icon-database'></use></svg></label><div class='xr-var-attrs'><dl class='xr-attrs'><dt><span>long_name :</span></dt><dd>reference code</dd><dt><span>flag_values :</span></dt><dd>R, X</dd><dt><span>flag_meanings :</span></dt><dd>data referenced to datum, data not referenced to datum</dd></dl></div><div class='xr-var-data'><pre>array([b&#x27;R&#x27;], dtype=&#x27;|S1&#x27;)</pre></div></li><li class='xr-var-item'><div class='xr-var-name'><span>reference_offset</span></div><div class='xr-var-dims'>(record_id)</div><div class='xr-var-dtype'>int16</div><div class='xr-var-preview xr-preview'>0</div><input id='attrs-33c34e71-9da2-4684-a580-ab7ee22c4e56' class='xr-var-attrs-in' type='checkbox' ><label for='attrs-33c34e71-9da2-4684-a580-ab7ee22c4e56' title='Show/Hide attributes'><svg class='icon xr-icon-file-text2'><use xlink:href='#icon-file-text2'></use></svg></label><input id='data-b83654c4-4053-4eae-9608-0a4973801d90' class='xr-var-data-in' type='checkbox'><label for='data-b83654c4-4053-4eae-9608-0a4973801d90' title='Show/Hide data repr'><svg class='icon xr-icon-database'><use xlink:href='#icon-database'></use></svg></label><div class='xr-var-attrs'><dl class='xr-attrs'><dt><span>units :</span></dt><dd>millimeters</dd><dt><span>long_name :</span></dt><dd>reference offset</dd><dt><span>comment :</span></dt><dd>This is a constant offset to be added to each data value to make the data relative to the tide staff zero or primary datum.</dd></dl></div><div class='xr-var-data'><pre>array([0], dtype=int16)</pre></div></li></ul></div></li><li class='xr-section-item'><input id='section-22141e1d-f0cc-49fd-8605-0dadc7fe3b55' class='xr-section-summary-in' type='checkbox'  ><label for='section-22141e1d-f0cc-49fd-8605-0dadc7fe3b55' class='xr-section-summary' >Indexes: <span>(2)</span></label><div class='xr-section-inline-details'></div><div class='xr-section-details'><ul class='xr-var-list'><li class='xr-var-item'><div class='xr-index-name'><div>time</div></div><div class='xr-index-preview'>PandasIndex</div><div></div><input id='index-c8a54be5-df4f-45a3-b3b3-63bd4d92ecad' class='xr-index-data-in' type='checkbox'/><label for='index-c8a54be5-df4f-45a3-b3b3-63bd4d92ecad' title='Show/Hide index repr'><svg class='icon xr-icon-database'><use xlink:href='#icon-database'></use></svg></label><div class='xr-index-data'><pre>PandasIndex(DatetimeIndex([&#x27;2007-10-19 10:00:00.028800&#x27;, &#x27;2007-10-19 10:59:59.971200&#x27;,\n",
       "                      &#x27;2007-10-19 12:00:00&#x27;, &#x27;2007-10-19 13:00:00.028800&#x27;,\n",
       "               &#x27;2007-10-19 13:59:59.971200&#x27;,        &#x27;2007-10-19 15:00:00&#x27;,\n",
       "               &#x27;2007-10-19 16:00:00.028800&#x27;, &#x27;2007-10-19 16:59:59.971200&#x27;,\n",
       "                      &#x27;2007-10-19 18:00:00&#x27;, &#x27;2007-10-19 19:00:00.028800&#x27;,\n",
       "               ...\n",
       "               &#x27;2018-12-30 19:00:00.028800&#x27;, &#x27;2018-12-30 19:59:59.971200&#x27;,\n",
       "                      &#x27;2018-12-30 21:00:00&#x27;, &#x27;2018-12-30 22:00:00.028800&#x27;,\n",
       "               &#x27;2018-12-30 22:59:59.971200&#x27;,        &#x27;2018-12-31 00:00:00&#x27;,\n",
       "               &#x27;2018-12-31 01:00:00.028800&#x27;, &#x27;2018-12-31 01:59:59.971200&#x27;,\n",
       "                      &#x27;2018-12-31 03:00:00&#x27;, &#x27;2018-12-31 04:00:00.028800&#x27;],\n",
       "              dtype=&#x27;datetime64[ns]&#x27;, name=&#x27;time&#x27;, length=98179, freq=None))</pre></div></li><li class='xr-var-item'><div class='xr-index-name'><div>record_id</div></div><div class='xr-index-preview'>PandasIndex</div><div></div><input id='index-94900313-18bb-4ceb-9dbb-8887f5b5cf54' class='xr-index-data-in' type='checkbox'/><label for='index-94900313-18bb-4ceb-9dbb-8887f5b5cf54' title='Show/Hide index repr'><svg class='icon xr-icon-database'><use xlink:href='#icon-database'></use></svg></label><div class='xr-index-data'><pre>PandasIndex(Index([3812], dtype=&#x27;int16&#x27;, name=&#x27;record_id&#x27;))</pre></div></li></ul></div></li><li class='xr-section-item'><input id='section-7b02d5ca-16b9-4e0c-b20a-c4f1fa479bf6' class='xr-section-summary-in' type='checkbox'  ><label for='section-7b02d5ca-16b9-4e0c-b20a-c4f1fa479bf6' class='xr-section-summary' >Attributes: <span>(11)</span></label><div class='xr-section-inline-details'></div><div class='xr-section-details'><dl class='xr-attrs'><dt><span>title :</span></dt><dd>JASL/UHSLC Research Quality Tide Gauge Data (hourly)</dd><dt><span>ncei_template_version :</span></dt><dd>NCEI_NetCDF_TimeSeries_Orthogonal_Template_v2.0</dd><dt><span>featureType :</span></dt><dd>timeSeries</dd><dt><span>Conventions :</span></dt><dd>CF-1.6, ACDD-1.3</dd><dt><span>date_created :</span></dt><dd>2023-04-04T01:53:10Z</dd><dt><span>publisher_name :</span></dt><dd>University of Hawaii Sea Level Center (UHSLC)</dd><dt><span>publisher_email :</span></dt><dd>philiprt@hawaii.edu, markm@soest.hawaii.edu</dd><dt><span>publisher_url :</span></dt><dd>http://uhslc.soest.hawaii.edu</dd><dt><span>summary :</span></dt><dd>The Joint Archive for Sea Level (JASL) Research Quality Data Set (RQDS) is a collaboration between the University of Hawaii Sea Level Center (UHSLC) and the World Data Center for Oceanography of the National Centers for Environmental Information (NCEI), National Oceanic and Atmospheric Administration (NOAA). The objective of the JASL RQDS is to assemble a well-documented, quality-controlled archive of hourly and daily sea level values that is appropriate for scientific research applications. The JASL RQDS is the largest global collection of quality-controlled hourly sea level data, and ongoing efforts seek to acquire new sites and uncover historic records as available.</dd><dt><span>processing_level :</span></dt><dd>The JASL receives hourly data from regional and national sea level networks operating world-wide. JASL RQDS data undergo a level 1 quality assessment focused on variability (e.g., unit and timing evaluation, outlier detection, combination of multiple channels into a primary channel, etc.) followed by a level 2 quality assessment focused on datum stability (e.g., tide gauge datum evaluation, assessment of level ties to tide gauge benchmarks, comparison with nearby stations, etc.).</dd><dt><span>acknowledgment :</span></dt><dd>The JASL/UHSLC Research Quality Data Set is supported by the National Oceanic and Atmospheric Administration (NOAA) via the National Centers for Environmental Information (NCEI) and the Office of Climate Observations (OCO).</dd></dl></div></li></ul></div></div>"
      ],
      "text/plain": [
       "<xarray.Dataset>\n",
       "Dimensions:               (record_id: 1, time: 98179)\n",
       "Coordinates:\n",
       "  * time                  (time) datetime64[ns] 2007-10-19T10:00:00.028800 .....\n",
       "  * record_id             (record_id) int16 3812\n",
       "    latitude              (record_id) float32 13.77\n",
       "    longitude             (record_id) float32 109.3\n",
       "Data variables: (12/13)\n",
       "    sea_level             (record_id, time) float32 ...\n",
       "    lat                   (record_id) float32 13.77\n",
       "    lon                   (record_id) float32 109.3\n",
       "    station_name          (record_id) |S8 b'Qui Nhon'\n",
       "    station_country       (record_id) |S8 b'Viet Nam'\n",
       "    station_country_code  (record_id) float32 704.0\n",
       "    ...                    ...\n",
       "    version               (record_id) |S1 b'B'\n",
       "    gloss_id              (record_id) float32 75.0\n",
       "    ssc_id                (record_id) |S4 b'quin'\n",
       "    decimation_method     (record_id) int16 1\n",
       "    reference_code        (record_id) |S1 b'R'\n",
       "    reference_offset      (record_id) int16 0\n",
       "Attributes:\n",
       "    title:                  JASL/UHSLC Research Quality Tide Gauge Data (hourly)\n",
       "    ncei_template_version:  NCEI_NetCDF_TimeSeries_Orthogonal_Template_v2.0\n",
       "    featureType:            timeSeries\n",
       "    Conventions:            CF-1.6, ACDD-1.3\n",
       "    date_created:           2023-04-04T01:53:10Z\n",
       "    publisher_name:         University of Hawaii Sea Level Center (UHSLC)\n",
       "    publisher_email:        philiprt@hawaii.edu, markm@soest.hawaii.edu\n",
       "    publisher_url:          http://uhslc.soest.hawaii.edu\n",
       "    summary:                The Joint Archive for Sea Level (JASL) Research Q...\n",
       "    processing_level:       The JASL receives hourly data from regional and n...\n",
       "    acknowledgment:         The JASL/UHSLC Research Quality Data Set is suppo..."
      ]
     },
     "execution_count": 44,
     "metadata": {},
     "output_type": "execute_result"
    }
   ],
   "source": [
    "ds"
   ]
  },
  {
   "cell_type": "code",
   "execution_count": 39,
   "id": "c591c146-66cf-4804-9530-76cad45847a3",
   "metadata": {
    "tags": []
   },
   "outputs": [
    {
     "name": "stdout",
     "output_type": "stream",
     "text": [
      "slice(39.0, 42.0, None)\n"
     ]
    },
    {
     "ename": "KeyError",
     "evalue": "\"'lat' is not a valid dimension or coordinate\"",
     "output_type": "error",
     "traceback": [
      "\u001b[0;31m---------------------------------------------------------------------------\u001b[0m",
      "\u001b[0;31mKeyError\u001b[0m                                  Traceback (most recent call last)",
      "Cell \u001b[0;32mIn[39], line 3\u001b[0m\n\u001b[1;32m      1\u001b[0m lat_min, lat_max \u001b[39m=\u001b[39m \u001b[39m39.0\u001b[39m, \u001b[39m42.0\u001b[39m\n\u001b[1;32m      2\u001b[0m lon_min, lon_max \u001b[39m=\u001b[39m \u001b[39m-\u001b[39m\u001b[39m75.0\u001b[39m, \u001b[39m-\u001b[39m\u001b[39m71.0\u001b[39m\n\u001b[0;32m----> 3\u001b[0m plot_area(ds, lat_min, lat_max, lon_min, lon_max, storm_repo[\u001b[39m\"\u001b[39;49m\u001b[39mSandy\u001b[39;49m\u001b[39m\"\u001b[39;49m][\u001b[39m\"\u001b[39;49m\u001b[39mtg\u001b[39;49m\u001b[39m\"\u001b[39;49m], tg_precise\u001b[39m=\u001b[39;49mstorm_repo[\u001b[39m\"\u001b[39;49m\u001b[39mSandy\u001b[39;49m\u001b[39m\"\u001b[39;49m][\u001b[39m\"\u001b[39;49m\u001b[39mtg_precise\u001b[39;49m\u001b[39m\"\u001b[39;49m])\n\u001b[1;32m      4\u001b[0m plt\u001b[39m.\u001b[39msavefig(\u001b[39mf\u001b[39m\u001b[39m\"\u001b[39m\u001b[39m./figures/Sandy-satellite-maps.png\u001b[39m\u001b[39m\"\u001b[39m)\n",
      "Cell \u001b[0;32mIn[37], line 4\u001b[0m, in \u001b[0;36mplot_area\u001b[0;34m(ds, lat_min, lat_max, lon_min, lon_max, tg, tg_precise)\u001b[0m\n\u001b[1;32m      1\u001b[0m \u001b[39mdef\u001b[39;00m \u001b[39mplot_area\u001b[39m(ds, lat_min, lat_max, lon_min, lon_max, tg, tg_precise\u001b[39m=\u001b[39m\u001b[39mNone\u001b[39;00m):\n\u001b[1;32m      2\u001b[0m     \u001b[39m# Slice the dataset based on latitude and longitude\u001b[39;00m\n\u001b[1;32m      3\u001b[0m     \u001b[39mprint\u001b[39m(\u001b[39mslice\u001b[39m(lat_min, lat_max))\n\u001b[0;32m----> 4\u001b[0m     ds_zoom \u001b[39m=\u001b[39m ds\u001b[39m.\u001b[39;49msel(lat\u001b[39m=\u001b[39;49m\u001b[39mslice\u001b[39;49m(lat_min, lat_max), lon\u001b[39m=\u001b[39;49m\u001b[39mslice\u001b[39;49m(lon_min, lon_max))\n\u001b[1;32m      6\u001b[0m     \u001b[39m# Set up the plot\u001b[39;00m\n\u001b[1;32m      7\u001b[0m     fig \u001b[39m=\u001b[39m plt\u001b[39m.\u001b[39mfigure(figsize\u001b[39m=\u001b[39m(\u001b[39m10\u001b[39m, \u001b[39m8\u001b[39m))\n",
      "File \u001b[0;32m~/opt/anaconda3/envs/CMA_2023/lib/python3.11/site-packages/xarray/core/dataset.py:2653\u001b[0m, in \u001b[0;36mDataset.sel\u001b[0;34m(self, indexers, method, tolerance, drop, **indexers_kwargs)\u001b[0m\n\u001b[1;32m   2592\u001b[0m \u001b[39m\u001b[39m\u001b[39m\"\"\"Returns a new dataset with each array indexed by tick labels\u001b[39;00m\n\u001b[1;32m   2593\u001b[0m \u001b[39malong the specified dimension(s).\u001b[39;00m\n\u001b[1;32m   2594\u001b[0m \n\u001b[0;32m   (...)\u001b[0m\n\u001b[1;32m   2650\u001b[0m \u001b[39mDataArray.sel\u001b[39;00m\n\u001b[1;32m   2651\u001b[0m \u001b[39m\"\"\"\u001b[39;00m\n\u001b[1;32m   2652\u001b[0m indexers \u001b[39m=\u001b[39m either_dict_or_kwargs(indexers, indexers_kwargs, \u001b[39m\"\u001b[39m\u001b[39msel\u001b[39m\u001b[39m\"\u001b[39m)\n\u001b[0;32m-> 2653\u001b[0m query_results \u001b[39m=\u001b[39m map_index_queries(\n\u001b[1;32m   2654\u001b[0m     \u001b[39mself\u001b[39;49m, indexers\u001b[39m=\u001b[39;49mindexers, method\u001b[39m=\u001b[39;49mmethod, tolerance\u001b[39m=\u001b[39;49mtolerance\n\u001b[1;32m   2655\u001b[0m )\n\u001b[1;32m   2657\u001b[0m \u001b[39mif\u001b[39;00m drop:\n\u001b[1;32m   2658\u001b[0m     no_scalar_variables \u001b[39m=\u001b[39m {}\n",
      "File \u001b[0;32m~/opt/anaconda3/envs/CMA_2023/lib/python3.11/site-packages/xarray/core/indexing.py:182\u001b[0m, in \u001b[0;36mmap_index_queries\u001b[0;34m(obj, indexers, method, tolerance, **indexers_kwargs)\u001b[0m\n\u001b[1;32m    179\u001b[0m     options \u001b[39m=\u001b[39m {\u001b[39m\"\u001b[39m\u001b[39mmethod\u001b[39m\u001b[39m\"\u001b[39m: method, \u001b[39m\"\u001b[39m\u001b[39mtolerance\u001b[39m\u001b[39m\"\u001b[39m: tolerance}\n\u001b[1;32m    181\u001b[0m indexers \u001b[39m=\u001b[39m either_dict_or_kwargs(indexers, indexers_kwargs, \u001b[39m\"\u001b[39m\u001b[39mmap_index_queries\u001b[39m\u001b[39m\"\u001b[39m)\n\u001b[0;32m--> 182\u001b[0m grouped_indexers \u001b[39m=\u001b[39m group_indexers_by_index(obj, indexers, options)\n\u001b[1;32m    184\u001b[0m results \u001b[39m=\u001b[39m []\n\u001b[1;32m    185\u001b[0m \u001b[39mfor\u001b[39;00m index, labels \u001b[39min\u001b[39;00m grouped_indexers:\n",
      "File \u001b[0;32m~/opt/anaconda3/envs/CMA_2023/lib/python3.11/site-packages/xarray/core/indexing.py:146\u001b[0m, in \u001b[0;36mgroup_indexers_by_index\u001b[0;34m(obj, indexers, options)\u001b[0m\n\u001b[1;32m    144\u001b[0m     \u001b[39mraise\u001b[39;00m \u001b[39mKeyError\u001b[39;00m(\u001b[39mf\u001b[39m\u001b[39m\"\u001b[39m\u001b[39mno index found for coordinate \u001b[39m\u001b[39m{\u001b[39;00mkey\u001b[39m!r}\u001b[39;00m\u001b[39m\"\u001b[39m)\n\u001b[1;32m    145\u001b[0m \u001b[39melif\u001b[39;00m key \u001b[39mnot\u001b[39;00m \u001b[39min\u001b[39;00m obj\u001b[39m.\u001b[39mdims:\n\u001b[0;32m--> 146\u001b[0m     \u001b[39mraise\u001b[39;00m \u001b[39mKeyError\u001b[39;00m(\u001b[39mf\u001b[39m\u001b[39m\"\u001b[39m\u001b[39m{\u001b[39;00mkey\u001b[39m!r}\u001b[39;00m\u001b[39m is not a valid dimension or coordinate\u001b[39m\u001b[39m\"\u001b[39m)\n\u001b[1;32m    147\u001b[0m \u001b[39melif\u001b[39;00m \u001b[39mlen\u001b[39m(options):\n\u001b[1;32m    148\u001b[0m     \u001b[39mraise\u001b[39;00m \u001b[39mValueError\u001b[39;00m(\n\u001b[1;32m    149\u001b[0m         \u001b[39mf\u001b[39m\u001b[39m\"\u001b[39m\u001b[39mcannot supply selection options \u001b[39m\u001b[39m{\u001b[39;00moptions\u001b[39m!r}\u001b[39;00m\u001b[39m for dimension \u001b[39m\u001b[39m{\u001b[39;00mkey\u001b[39m!r}\u001b[39;00m\u001b[39m\"\u001b[39m\n\u001b[1;32m    150\u001b[0m         \u001b[39m\"\u001b[39m\u001b[39mthat has no associated coordinate or index\u001b[39m\u001b[39m\"\u001b[39m\n\u001b[1;32m    151\u001b[0m     )\n",
      "\u001b[0;31mKeyError\u001b[0m: \"'lat' is not a valid dimension or coordinate\""
     ]
    }
   ],
   "source": [
    "lat_min, lat_max = 39.0, 42.0\n",
    "lon_min, lon_max = -75.0, -71.0\n",
    "plot_area(ds, lat_min, lat_max, lon_min, lon_max, storm_repo[\"Sandy\"][\"tg\"], tg_precise=storm_repo[\"Sandy\"][\"tg_precise\"])\n",
    "plt.savefig(f\"./figures/Sandy-satellite-maps.png\")\n"
   ]
  },
  {
   "cell_type": "code",
   "execution_count": null,
   "id": "124544e2-f3da-4635-bc57-fe51b2c0deac",
   "metadata": {
    "tags": []
   },
   "outputs": [],
   "source": [
    "lat_min, lat_max = 16.5, 19.5  # Latitude range: 20°N to 30°N\n",
    "lon_min, lon_max = -67.5, -64.0  # Longitude range: -90°W to -80°W\n",
    "\n",
    "plot_area(lat_min, lat_max, lon_min, lon_max, tg=storm_repo[\"Maria\"][\"tg\"], tg_precise=storm_repo[\"Maria\"][\"tg_precise\"])\n",
    "\n",
    "plt.show()\n",
    "plt.savefig(f\"./figures/Maria-satelite-maps.png\")"
   ]
  },
  {
   "cell_type": "code",
   "execution_count": null,
   "id": "9ef2ef61-eab8-4051-9fb7-ee855c964c31",
   "metadata": {
    "tags": []
   },
   "outputs": [],
   "source": [
    "lat_min, lat_max = 5.0, 19.0  # Latitude range: 20°N to 30°N\n",
    "lon_min, lon_max = 108.0, 135.0  # Longitude range: -90°W to -80°W\n",
    "\n",
    "plot_area(lat_min, lat_max, lon_min, lon_max, tg=storm_repo[\"Ketsana\"][\"tg\"])"
   ]
  },
  {
   "cell_type": "code",
   "execution_count": null,
   "id": "f14d7a96-1141-4b94-a54e-5666a90faa54",
   "metadata": {
    "tags": []
   },
   "outputs": [],
   "source": [
    "lat_min, lat_max = 12.0, 16.0  # Latitude range: 20°N to 30°N\n",
    "lon_min, lon_max = 118.0, 125.0  # Longitude range: -90°W to -80°W\n",
    "tg_tmp = {\n",
    "    \"Legaspi, Philippines\": {\"lat\": 13.15000, \"lon\": 123.75000},\n",
    "    \"Manila, Philippines\": {\"lat\": 14.58500 , \"lon\": 120.96800},\n",
    "    \"Subic Bay, Philippines\": {\"lat\": 14.76500 , \"lon\": 120.25200}}\n",
    "\n",
    "plot_area(lat_min, lat_max, lon_min, lon_max, tg=tg_tmp)"
   ]
  },
  {
   "cell_type": "markdown",
   "id": "a896bf09-24e1-426e-84df-85b3ab69eb8e",
   "metadata": {
    "tags": []
   },
   "source": [
    "## Separated sources"
   ]
  },
  {
   "cell_type": "markdown",
   "id": "ad5bf8e3-7a79-4c69-89f4-d3bda25e619e",
   "metadata": {
    "jp-MarkdownHeadingCollapsed": true,
    "tags": []
   },
   "source": [
    "### Just the tidal gauge"
   ]
  },
  {
   "cell_type": "code",
   "execution_count": null,
   "id": "e9ffd063-7fe0-4c80-b93e-4367b3fe0661",
   "metadata": {
    "tags": []
   },
   "outputs": [],
   "source": [
    "event = \"Sandy\"\n",
    "plot_time_series(ar_allLoc_allEvent_tg, event, baseline_dict = bl_allLoc_allEvent_tg,\n",
    "                xlab=\"Time [hours]\", ylab=\"Sea Surface Height (SSH) [m]\", type_sensor=\"Tidal-Gauge\")"
   ]
  },
  {
   "cell_type": "code",
   "execution_count": null,
   "id": "aa905c13-96c0-48f1-b1a3-0c06fa3f89d3",
   "metadata": {
    "tags": []
   },
   "outputs": [],
   "source": [
    "event = \"Maria\"\n",
    "plot_time_series(ar_allLoc_allEvent_tg, event, baseline_dict = bl_allLoc_allEvent_tg,\n",
    "                xlab=\"Time [hours]\", ylab=\"Sea Surface Height (SSH) [m]\", type_sensor=\"Tidal-Gauge\")"
   ]
  },
  {
   "cell_type": "code",
   "execution_count": null,
   "id": "392d6eb0-e6dd-43b7-a61e-dbc60d6ef1a2",
   "metadata": {
    "tags": []
   },
   "outputs": [],
   "source": [
    "event = \"Ketsana\"\n",
    "plot_time_series(ar_allLoc_allEvent_tg, event, baseline_dict = bl_allLoc_allEvent_tg,\n",
    "                xlab=\"Time [hours]\", ylab=\"Sea Surface Height (SSH) [m]\", type_sensor=\"Tidal-Gauge\")"
   ]
  },
  {
   "cell_type": "markdown",
   "id": "63f28a40-feb0-4196-95ab-075d2089176d",
   "metadata": {
    "jp-MarkdownHeadingCollapsed": true,
    "tags": []
   },
   "source": [
    "### Just the satelite"
   ]
  },
  {
   "cell_type": "code",
   "execution_count": null,
   "id": "bfe2fba4-8013-4a19-9463-87eddc9cee8f",
   "metadata": {
    "tags": []
   },
   "outputs": [],
   "source": [
    "event = \"Sandy\"\n",
    "plot_time_series(ar_allLoc_allEvent_sat, event, baseline_dict = bl_allLoc_allEvent_sat)"
   ]
  },
  {
   "cell_type": "code",
   "execution_count": null,
   "id": "93b7d848-a97a-45d9-b5d6-a8caf72845bd",
   "metadata": {
    "tags": []
   },
   "outputs": [],
   "source": [
    "event = \"Maria\"\n",
    "plot_time_series(ar_allLoc_allEvent_sat, event, baseline_dict = bl_allLoc_allEvent_sat)"
   ]
  },
  {
   "cell_type": "code",
   "execution_count": null,
   "id": "c7178b9f-54ea-4837-bdf7-f6d75b95c2be",
   "metadata": {
    "tags": []
   },
   "outputs": [],
   "source": [
    "event = \"Ketsana\"\n",
    "plot_time_series(ar_allLoc_allEvent_sat, event, baseline_dict = bl_allLoc_allEvent_sat)"
   ]
  },
  {
   "cell_type": "markdown",
   "id": "640c8dd7-a94b-4797-90c8-2bf3178e61f8",
   "metadata": {
    "tags": []
   },
   "source": [
    "## Combined sources"
   ]
  },
  {
   "cell_type": "markdown",
   "id": "95e3058a-3c9e-4d0f-aedf-0e692bf07a04",
   "metadata": {
    "jp-MarkdownHeadingCollapsed": true,
    "tags": []
   },
   "source": [
    "### Normalized plot of **both** satellite and TG (Not resampled)"
   ]
  },
  {
   "cell_type": "code",
   "execution_count": null,
   "id": "755eb59c-ed83-434b-af7b-9ed2363f0ca3",
   "metadata": {
    "tags": []
   },
   "outputs": [],
   "source": [
    "event = \"Sandy\"\n",
    "plot_time_series_combined(\n",
    "    ar_allLoc_allEvent_tg, \n",
    "    ar_allLoc_allEvent_sat, \n",
    "    event, \n",
    "    baseline_dict=True, \n",
    "    normalize_zero=True,\n",
    "    has_been_resampled=False,\n",
    "    xlab=\"xlab\", ylab=\"ylab\", type_sensor='sensor')"
   ]
  },
  {
   "cell_type": "code",
   "execution_count": null,
   "id": "5f2a7579-2a54-4df1-b613-bae969a8d828",
   "metadata": {
    "tags": []
   },
   "outputs": [],
   "source": [
    "event = \"Maria\"\n",
    "plot_time_series_combined(\n",
    "    ar_allLoc_allEvent_tg, \n",
    "    ar_allLoc_allEvent_sat, \n",
    "    event, \n",
    "    baseline_dict=True, \n",
    "    normalize_zero=True,\n",
    "    has_been_resampled=False,\n",
    "    xlab=\"xlab\", ylab=\"ylab\", type_sensor='sensor')"
   ]
  },
  {
   "cell_type": "code",
   "execution_count": null,
   "id": "077791fc-4b47-4201-8331-763c70b78b35",
   "metadata": {
    "tags": []
   },
   "outputs": [],
   "source": [
    "event = \"Ketsana\"\n",
    "plot_time_series_combined(\n",
    "    ar_allLoc_allEvent_tg, \n",
    "    ar_allLoc_allEvent_sat, \n",
    "    event, \n",
    "    baseline_dict=True, \n",
    "    normalize_zero=True,\n",
    "    has_been_resampled=False,\n",
    "    xlab=\"xlab\", ylab=\"ylab\", type_sensor='sensor')"
   ]
  },
  {
   "cell_type": "markdown",
   "id": "6566bbab-af4a-4e64-aa66-6b3e38de4afb",
   "metadata": {
    "jp-MarkdownHeadingCollapsed": true,
    "tags": []
   },
   "source": [
    "### Normalized plot of **both** satellite and TG (resampled)"
   ]
  },
  {
   "cell_type": "code",
   "execution_count": null,
   "id": "2333f9ac-1a88-4109-ba27-483b0867ffa1",
   "metadata": {
    "tags": []
   },
   "outputs": [],
   "source": [
    "event = \"Sandy\"\n",
    "plot_time_series_combined(\n",
    "    ar_allLoc_allEvent_tg, \n",
    "    ar_allLoc_allEvent_sat, \n",
    "    event, \n",
    "    baseline_dict=True, \n",
    "    normalize_zero=True,\n",
    "    has_been_resampled=True,\n",
    "    xlab=\"xlab\", ylab=\"ylab\", type_sensor='sensor')"
   ]
  },
  {
   "cell_type": "code",
   "execution_count": null,
   "id": "f20eef44-58d3-4e44-b989-cc6aa652920a",
   "metadata": {
    "tags": []
   },
   "outputs": [],
   "source": [
    "event = \"Maria\"\n",
    "plot_time_series_combined(\n",
    "    ar_allLoc_allEvent_tg, \n",
    "    ar_allLoc_allEvent_sat, \n",
    "    event, \n",
    "    baseline_dict=True, \n",
    "    normalize_zero=True,\n",
    "    has_been_resampled=True,\n",
    "    xlab=\"xlab\", ylab=\"ylab\", type_sensor='sensor')"
   ]
  },
  {
   "cell_type": "code",
   "execution_count": null,
   "id": "49b724a2-f60d-4dae-b1cc-144ec7ee4525",
   "metadata": {
    "tags": []
   },
   "outputs": [],
   "source": [
    "event = \"Ketsana\"\n",
    "plot_time_series_combined(\n",
    "    ar_allLoc_allEvent_tg, \n",
    "    ar_allLoc_allEvent_sat, \n",
    "    event, \n",
    "    baseline_dict=True, \n",
    "    normalize_zero=True,\n",
    "    has_been_resampled=True,\n",
    "    xlab=\"xlab\", ylab=\"ylab\", type_sensor='sensor')"
   ]
  }
 ],
 "metadata": {
  "kernelspec": {
   "display_name": "Python 3 (ipykernel)",
   "language": "python",
   "name": "python3"
  },
  "language_info": {
   "codemirror_mode": {
    "name": "ipython",
    "version": 3
   },
   "file_extension": ".py",
   "mimetype": "text/x-python",
   "name": "python",
   "nbconvert_exporter": "python",
   "pygments_lexer": "ipython3",
   "version": "3.11.4"
  }
 },
 "nbformat": 4,
 "nbformat_minor": 5
}
